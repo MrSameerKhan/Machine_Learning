{
 "metadata": {
  "language_info": {
   "codemirror_mode": {
    "name": "ipython",
    "version": 3
   },
   "file_extension": ".py",
   "mimetype": "text/x-python",
   "name": "python",
   "nbconvert_exporter": "python",
   "pygments_lexer": "ipython3",
   "version": "3.8.8"
  },
  "orig_nbformat": 2,
  "kernelspec": {
   "name": "python388jvsc74a57bd057b66c22aabd134d6cf71460525f066bed3b4ba0eefd0844134956d138f041cb",
   "display_name": "Python 3.8.8 64-bit ('AIML': venv)"
  }
 },
 "nbformat": 4,
 "nbformat_minor": 2,
 "cells": [
  {
   "cell_type": "code",
   "execution_count": 5,
   "metadata": {},
   "outputs": [
    {
     "output_type": "execute_result",
     "data": {
      "text/plain": [
       "[6, 2, 3, 4, 5, 1]"
      ]
     },
     "metadata": {},
     "execution_count": 5
    }
   ],
   "source": [
    "my_list = [1,2,3, 4, 5, 6]\n",
    "\n",
    "my_list[0], my_list[-1] = my_list[-1], my_list[0]\n",
    "\n",
    "my_list[0], my_list[-1]\n",
    "my_list"
   ]
  },
  {
   "cell_type": "code",
   "execution_count": 8,
   "metadata": {},
   "outputs": [
    {
     "output_type": "execute_result",
     "data": {
      "text/plain": [
       "[1, 6, 3, 4, 5, 2]"
      ]
     },
     "metadata": {},
     "execution_count": 8
    }
   ],
   "source": [
    "my_list = [1,2,3, 4, 5, 6]\n",
    "\n",
    "post_1 = 2\n",
    "post_2 = 6\n",
    "\n",
    "my_list[post_1-1], my_list[post_2-1] = my_list[post_2-1], my_list[post_1-1]\n",
    "\n",
    "my_list"
   ]
  },
  {
   "cell_type": "code",
   "execution_count": 10,
   "metadata": {},
   "outputs": [
    {
     "output_type": "execute_result",
     "data": {
      "text/plain": [
       "6"
      ]
     },
     "metadata": {},
     "execution_count": 10
    }
   ],
   "source": [
    "my_list = [1,2,3, 4, 5, 6]\n",
    "\n",
    "len(my_list)\n",
    "\n",
    "max()"
   ]
  },
  {
   "cell_type": "code",
   "execution_count": 20,
   "metadata": {},
   "outputs": [
    {
     "output_type": "stream",
     "name": "stdout",
     "text": [
      "Doesn't\nResult 1\n"
     ]
    }
   ],
   "source": [
    "my_list = [1,2,3, 4, 5, 6]\n",
    "check = 33\n",
    "for elem in my_list:\n",
    "    if elem==check:\n",
    "        print(\"Exists\")\n",
    "        break\n",
    "else:\n",
    "    print(\"Doesn't\")\n",
    "\n",
    "\n",
    "result  = my_list.count(3)\n",
    "print(\"Result\", result)\n",
    "\n"
   ]
  },
  {
   "cell_type": "code",
   "execution_count": 22,
   "metadata": {},
   "outputs": [
    {
     "output_type": "execute_result",
     "data": {
      "text/plain": [
       "[]"
      ]
     },
     "metadata": {},
     "execution_count": 22
    }
   ],
   "source": [
    "my_list = [1,2,3, 4, 5, 6]\n",
    "\n",
    "my_list.clear()\n",
    "my_list"
   ]
  },
  {
   "cell_type": "code",
   "execution_count": 26,
   "metadata": {},
   "outputs": [
    {
     "output_type": "execute_result",
     "data": {
      "text/plain": [
       "[6, 5, 4, 3, 2, 1]"
      ]
     },
     "metadata": {},
     "execution_count": 26
    }
   ],
   "source": [
    "my_list = [1,2,3, 4, 5, 6]\n",
    "my_list\n",
    "\n",
    "my_list[::-1]\n"
   ]
  },
  {
   "cell_type": "code",
   "execution_count": 30,
   "metadata": {},
   "outputs": [
    {
     "output_type": "stream",
     "name": "stdout",
     "text": [
      "Temp 21\nSum 21\n"
     ]
    }
   ],
   "source": [
    "my_list = [1,2,3, 4, 5, 6]\n",
    "\n",
    "temp = 0\n",
    "for ele in my_list:\n",
    "    temp = temp + ele\n",
    "\n",
    "print(\"Temp\",temp)\n",
    "\n",
    "print(\"Sum\", sum(my_list))"
   ]
  },
  {
   "cell_type": "code",
   "execution_count": 36,
   "metadata": {},
   "outputs": [
    {
     "output_type": "stream",
     "name": "stdout",
     "text": [
      "Temp 720\nMath 720\nNumpy 720\n"
     ]
    }
   ],
   "source": [
    "my_list = [1,2,3, 4, 5, 6]\n",
    "\n",
    "temp = 1\n",
    "for ele in my_list:\n",
    "    temp = temp * ele\n",
    "\n",
    "print(\"Temp\",temp)\n",
    "\n",
    "import math \n",
    "\n",
    "result = math.prod(my_list)\n",
    "print(\"Math\", result)\n",
    "\n",
    "import numpy\n",
    "\n",
    "res = numpy.prod(my_list)\n",
    "print(\"Numpy\", res)"
   ]
  },
  {
   "cell_type": "code",
   "execution_count": 49,
   "metadata": {},
   "outputs": [
    {
     "output_type": "stream",
     "name": "stdout",
     "text": [
      "-2 10\nmax 33\n"
     ]
    }
   ],
   "source": [
    "my_list = [10,2,33, 4, 5,1 ,6]\n",
    "\n",
    "my_list.sort()\n",
    "my_list\n",
    "print(\"-2\", my_list[-2])\n",
    "\n",
    "\n",
    "print(\"max\",max(my_list))"
   ]
  },
  {
   "cell_type": "code",
   "execution_count": 59,
   "metadata": {},
   "outputs": [
    {
     "output_type": "execute_result",
     "data": {
      "text/plain": [
       "[5, 6, 10, 33]"
      ]
     },
     "metadata": {},
     "execution_count": 59
    }
   ],
   "source": [
    "my_list = [10,2,33, 4, 5,1 ,6]\n",
    "\n",
    "my_list.sort()\n",
    "my_list\n",
    "\n",
    "n = 4\n",
    "\n",
    "my_list[-n:]"
   ]
  },
  {
   "cell_type": "code",
   "execution_count": 65,
   "metadata": {},
   "outputs": [
    {
     "output_type": "execute_result",
     "data": {
      "text/plain": [
       "[10, 2, 4, 6]"
      ]
     },
     "metadata": {},
     "execution_count": 65
    }
   ],
   "source": [
    "my_list = [10,2,33, 4, 5,1 ,6]\n",
    "\n",
    "result  = [ele for ele in my_list if ele%2 == 0]\n",
    "result = list(filter(lambda x : x%2 ==0, my_list))\n",
    "\n",
    "result"
   ]
  },
  {
   "cell_type": "code",
   "execution_count": 74,
   "metadata": {},
   "outputs": [
    {
     "output_type": "execute_result",
     "data": {
      "text/plain": [
       "(33, 5, 1)"
      ]
     },
     "metadata": {},
     "execution_count": 74
    }
   ],
   "source": [
    "result =[ele for ele in my_list if ele % 2 != 0]\n",
    "result\n",
    "\n",
    "\n",
    "reul =  tuple(filter(lambda ele : ele % 2 != 0 , my_list))\n",
    "\n",
    "reul"
   ]
  },
  {
   "cell_type": "code",
   "execution_count": 77,
   "metadata": {},
   "outputs": [
    {
     "output_type": "execute_result",
     "data": {
      "text/plain": [
       "[-10, -9, -8, -7, -6, -5, -4, -3, -2, -1]"
      ]
     },
     "metadata": {},
     "execution_count": 77
    }
   ],
   "source": [
    "my_list = [10,2,33, 4, 5,1 ,6]\n",
    "\n",
    "start , end = -10, 10\n",
    "\n",
    "new_list = []\n",
    "for ele in range(start, end+1):\n",
    "    if ele < 0:\n",
    "        new_list.append(ele)\n",
    "new_list"
   ]
  },
  {
   "cell_type": "code",
   "execution_count": 79,
   "metadata": {},
   "outputs": [
    {
     "output_type": "execute_result",
     "data": {
      "text/plain": [
       "[10, 6]"
      ]
     },
     "metadata": {},
     "execution_count": 79
    }
   ],
   "source": [
    "my_list = [10,2,33, 4, 5,1 ,6]\n",
    "\n",
    "del my_list[1:-1]\n",
    "\n",
    "my_list"
   ]
  },
  {
   "cell_type": "code",
   "execution_count": 83,
   "metadata": {},
   "outputs": [
    {
     "output_type": "execute_result",
     "data": {
      "text/plain": [
       "[10, 2, 33, 4, 5, 1, 6]"
      ]
     },
     "metadata": {},
     "execution_count": 83
    }
   ],
   "source": [
    "my_list = [10,2,33, 4, 5,1 ,6, [], []]\n",
    "new_list = []\n",
    "for ele in my_list:\n",
    "    if ele != []:\n",
    "        new_list.append(ele)\n",
    "\n",
    "new_list\n",
    "\n",
    "\n",
    "result = list(filter(None, my_list))\n",
    "result"
   ]
  },
  {
   "cell_type": "code",
   "execution_count": 88,
   "metadata": {},
   "outputs": [
    {
     "output_type": "stream",
     "name": "stdout",
     "text": [
      "NN [10, 2, 33, 4, 5, 1, 6]\n"
     ]
    }
   ],
   "source": [
    "my_list = [10,2,33, 4, 5,1 ,6]\n",
    "new_list = []\n",
    "new_list  = my_list.copy()\n",
    "\n",
    "new_list\n",
    "\n",
    "\n",
    "\n",
    "nn = list(my_list)\n",
    "print(\"NN\", nn)"
   ]
  },
  {
   "cell_type": "code",
   "execution_count": null,
   "metadata": {},
   "outputs": [],
   "source": []
  }
 ]
}