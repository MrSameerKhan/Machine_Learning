{
 "metadata": {
  "language_info": {
   "codemirror_mode": {
    "name": "ipython",
    "version": 3
   },
   "file_extension": ".py",
   "mimetype": "text/x-python",
   "name": "python",
   "nbconvert_exporter": "python",
   "pygments_lexer": "ipython3",
   "version": "3.8.8"
  },
  "orig_nbformat": 2,
  "kernelspec": {
   "name": "python388jvsc74a57bd057b66c22aabd134d6cf71460525f066bed3b4ba0eefd0844134956d138f041cb",
   "display_name": "Python 3.8.8 64-bit ('AIML': venv)"
  }
 },
 "nbformat": 4,
 "nbformat_minor": 2,
 "cells": [
  {
   "cell_type": "code",
   "execution_count": null,
   "metadata": {},
   "outputs": [],
   "source": [
    "prime number"
   ]
  },
  {
   "cell_type": "code",
   "execution_count": null,
   "metadata": {},
   "outputs": [],
   "source": [
    "# Square root\n",
    "root_var = 2\n",
    "print(f\"Square root of {root_var} is {root_var**2}\")"
   ]
  },
  {
   "cell_type": "code",
   "execution_count": null,
   "metadata": {},
   "outputs": [],
   "source": [
    "# Area of the triangle\n",
    "a,b,c= 5,6,7\n",
    "\n",
    "s = (a+b+c)/2\n",
    "\n",
    "area = (s*(s-a)*(s-b)*(s-c))**0.5\n",
    "print(f\"Area of triangle for given variables {a} {b} {c} is {area}\")"
   ]
  },
  {
   "cell_type": "code",
   "execution_count": null,
   "metadata": {},
   "outputs": [],
   "source": [
    "# Quadratic Equation\n",
    "\n",
    "a,b,c = 1,5,6\n",
    "\n",
    "neg_x = (-(b-((b**2 - (4*a*c))**0.5)))/2*a\n",
    "pos_x = (-(b+((b**2 - (4*a*c))**0.5)))/2*a\n",
    "\n",
    "print(f\"Output is {pos_x} and {neg_x}\")"
   ]
  },
  {
   "cell_type": "code",
   "execution_count": null,
   "metadata": {},
   "outputs": [],
   "source": [
    "# Swap two numbers\n",
    "\n",
    "a , b= 66, 88\n",
    "print(f\"Before a is {a} and b is {b}\")\n",
    "\n",
    "temp = a\n",
    "a = b\n",
    "b = temp\n",
    "print(f\"After a  is {a} and b is {b}\")"
   ]
  },
  {
   "cell_type": "code",
   "execution_count": null,
   "metadata": {},
   "outputs": [],
   "source": [
    "# Generate random number\n",
    "\n",
    "import random\n",
    "\n",
    "new_num = random.randint(1, 10)\n",
    "print(f\"Random Number {new_num}\")"
   ]
  },
  {
   "cell_type": "code",
   "execution_count": null,
   "metadata": {},
   "outputs": [],
   "source": [
    "# Kms to miles\n",
    "kms = 64\n",
    "miles = kms/(1.6)\n",
    "print(f\"Converting kms {kms} to miles {miles}\")\n",
    "\n",
    "# miles to kms\n",
    "new_miles = 40\n",
    "new_kms = new_miles*(1.6)\n",
    "print(f\"Converting miles {miles} to kms {kms}\")"
   ]
  },
  {
   "cell_type": "code",
   "execution_count": null,
   "metadata": {},
   "outputs": [],
   "source": [
    "# Convert celcius to fahrenheit\n",
    "\n",
    "cel = 35\n",
    "fah = (cel *(9/5)) + 32\n",
    "print(f\"Celsius is {cel} fahrenheit is {fah}\")\n",
    "\n",
    "# convert fahrenheit to celcius\n",
    "\n",
    "new_fah = 50\n",
    "new_cel = (new_fah - 32)*(5/9)\n",
    "print(f\"Fahrenheit is {new_fah} celcius is {new_cel}\")"
   ]
  },
  {
   "cell_type": "code",
   "execution_count": null,
   "metadata": {},
   "outputs": [],
   "source": [
    "# If number is positive or negative or zero\n",
    "\n",
    "new_input = int(input(\"Enter any positive number\"))\n",
    "\n",
    "if new_input >= 0:\n",
    "    if new_input == 0:\n",
    "        print(f\"Given num is {new_input} and it is zero\")\n",
    "    else:\n",
    "        print(f\"Given number is {new_input} and it is postive\")\n",
    "else:\n",
    "    print(f\"Given number is {new_input} and it is negative\")\n"
   ]
  },
  {
   "cell_type": "code",
   "execution_count": null,
   "metadata": {},
   "outputs": [],
   "source": [
    "# Given number is odd or even\n",
    "\n",
    "new_input = int(input(\"Enter any positive number\"))\n",
    "\n",
    "if (new_input%2) == 0:\n",
    "    print(\"Even\")\n",
    "else:\n",
    "    print(\"Odd\")\n"
   ]
  },
  {
   "cell_type": "code",
   "execution_count": null,
   "metadata": {},
   "outputs": [],
   "source": [
    "# largest among three numbers\n",
    "\n",
    "a, b , c = 102, 20, 500\n",
    "\n",
    "if (a>b) and (a>c):\n",
    "    print(f\"Large number is {a}\")\n",
    "elif (b > a) and (b>c):\n",
    "    print(f\"Large number is {b}\")\n",
    "else:\n",
    "    print(f\"Large number is {c}\")"
   ]
  },
  {
   "cell_type": "code",
   "execution_count": null,
   "metadata": {},
   "outputs": [],
   "source": [
    "# Prime number\n",
    "new_input = int(input(\"Enter any positive number\"))\n",
    "\n",
    "if new_input > 1:\n",
    "\n",
    "    for i in range(2, int(new_input/2)+1):\n",
    "\n",
    "        if (new_input % i) == 0:\n",
    "            print(f\"{new_input} is not a prime number\")\n",
    "            break\n",
    "    else :\n",
    "        print(f\"{new_input} is a prime number\")\n",
    "else:\n",
    "    print(f\"{new_input} is not a prime number\")"
   ]
  },
  {
   "cell_type": "code",
   "execution_count": null,
   "metadata": {
    "tags": []
   },
   "outputs": [],
   "source": [
    "# Prime number in an interval\n",
    "lower , upper = 900 , 1000\n",
    "\n",
    "for num in range(lower, upper+1):\n",
    "    if num > 1:\n",
    "        for i in range(2, num):\n",
    "            if (num%i) == 0 :\n",
    "                break\n",
    "        else:\n",
    "            print(num)\n"
   ]
  },
  {
   "cell_type": "code",
   "execution_count": null,
   "metadata": {},
   "outputs": [],
   "source": [
    "# Factorial number\n",
    "\n",
    "fact = 6\n",
    "\n",
    "temp = 1\n",
    "for i in range(1, fact+1):\n",
    "    temp = temp * i\n",
    "\n",
    "\n",
    "print(temp)\n"
   ]
  },
  {
   "cell_type": "code",
   "execution_count": null,
   "metadata": {},
   "outputs": [],
   "source": [
    "# Multiplication Table\n",
    "\n",
    "for i in range(1,21):\n",
    "    print(f\" 12 * {i} = {12*i}\")"
   ]
  },
  {
   "cell_type": "code",
   "execution_count": null,
   "metadata": {},
   "outputs": [],
   "source": [
    "# Fibonacci series\n",
    "num = 7\n",
    "\n",
    "a , b = 0,1 \n",
    "for i in range (0, num+1):\n",
    "    print(a)\n",
    "    temp = a + b\n",
    "    a = b\n",
    "    b = temp\n"
   ]
  },
  {
   "cell_type": "code",
   "execution_count": 17,
   "metadata": {},
   "outputs": [
    {
     "output_type": "stream",
     "name": "stdout",
     "text": [
      "3\n27\n7\n370\n1\n371\n"
     ]
    }
   ],
   "source": [
    "# Armstrong Number\n",
    "\n",
    "input = 371\n",
    "\n",
    "my_list = [int(digit) for digit in str(input)]\n",
    "\n",
    "sum = 0\n",
    "for eachIndex in my_list:\n",
    "    print(eachIndex)\n",
    "    sum = sum + eachIndex**3\n",
    "    print(sum)\n",
    "\n",
    "# print(sum)"
   ]
  },
  {
   "cell_type": "code",
   "execution_count": 4,
   "metadata": {},
   "outputs": [
    {
     "output_type": "stream",
     "name": "stdout",
     "text": [
      "Sum of 6 is 21\n"
     ]
    }
   ],
   "source": [
    "# Sum of \"n\" natural numbers\n",
    "\n",
    "num = 6\n",
    "\n",
    "temp = 0\n",
    "for i in range(1, 6+1):\n",
    "    temp = temp + i\n",
    "\n",
    "print(f\"Sum of {num} is {temp}\")\n"
   ]
  },
  {
   "cell_type": "code",
   "execution_count": 9,
   "metadata": {},
   "outputs": [
    {
     "output_type": "stream",
     "name": "stdout",
     "text": [
      "1\n2\n4\n8\n16\n32\n64\n128\n256\n512\n1024\n"
     ]
    }
   ],
   "source": [
    "# Powers of 2 using Anonymous Function\n",
    "\n",
    "\n",
    "for i in range(0, 10+1):\n",
    "    print(2**i)\n",
    "\n",
    "num = 26\n",
    "rest = list(map(lambda x : 2**x , range(num)))"
   ]
  },
  {
   "cell_type": "code",
   "execution_count": 16,
   "metadata": {},
   "outputs": [
    {
     "output_type": "stream",
     "name": "stdout",
     "text": [
      "65\n39\n221\n[65, 39, 221]\n"
     ]
    }
   ],
   "source": [
    "# find numbers divisible by another number\n",
    "\n",
    "my_list = [12,65,54,39,102,339,221]\n",
    "dev_num = 13\n",
    "\n",
    "for i in my_list :\n",
    "    if (i % dev_num) == 0:\n",
    "        print(i)\n",
    "\n",
    "\n",
    "divi_result = list((filter(lambda i : (i % dev_num) == 0 ,  my_list)))\n",
    "print(divi_result)\n",
    "    "
   ]
  },
  {
   "cell_type": "code",
   "execution_count": 21,
   "metadata": {},
   "outputs": [
    {
     "output_type": "execute_result",
     "data": {
      "text/plain": [
       "'0x96'"
      ]
     },
     "metadata": {},
     "execution_count": 21
    }
   ],
   "source": [
    "# Convert Decimal to binary, octal, hexadecimal\n",
    "\n",
    "sam = 150\n",
    "\n",
    "bin(sam)\n",
    "oct(sam)\n",
    "hex(sam)"
   ]
  },
  {
   "cell_type": "code",
   "execution_count": 28,
   "metadata": {},
   "outputs": [
    {
     "output_type": "stream",
     "name": "stdout",
     "text": [
      "112\n"
     ]
    },
    {
     "output_type": "execute_result",
     "data": {
      "text/plain": [
       "'A'"
      ]
     },
     "metadata": {},
     "execution_count": 28
    }
   ],
   "source": [
    "# find ASCII \n",
    "\n",
    "c = 'p'\n",
    "print(ord(c))\n",
    "\n",
    "chr(65)"
   ]
  },
  {
   "cell_type": "code",
   "execution_count": 4,
   "metadata": {},
   "outputs": [
    {
     "output_type": "stream",
     "name": "stdout",
     "text": [
      "[19, 65, 23, 90]\n"
     ]
    }
   ],
   "source": [
    "# Python3 program to swap elements\n",
    "# at given positions\n",
    "\n",
    "# Swap function\n",
    "def swapPositions(list, pos1, pos2):\n",
    "\t\n",
    "\tlist[pos1], list[pos2] = list[pos2], list[pos1]\n",
    "\treturn list\n",
    "\n",
    "# Driver function\n",
    "List = [23, 65, 19, 90]\n",
    "pos1, pos2 = 1, 3\n",
    "\n",
    "print(swapPositions(List, pos1-1, pos2-1))\n"
   ]
  },
  {
   "cell_type": "code",
   "execution_count": null,
   "metadata": {},
   "outputs": [],
   "source": []
  }
 ]
}