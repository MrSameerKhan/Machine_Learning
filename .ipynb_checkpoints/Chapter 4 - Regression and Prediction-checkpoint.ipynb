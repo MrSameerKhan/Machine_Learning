{
 "cells": [
  {
   "cell_type": "markdown",
   "metadata": {},
   "source": [
    "# Practical Statistics for Data Scientists (Python)\n",
    "# Chapter 4. Regression and Prediction\n",
    "> (c) 2019 Peter C. Bruce, Andrew Bruce, Peter Gedeck"
   ]
  },
  {
   "cell_type": "markdown",
   "metadata": {},
   "source": [
    "Import required Python packages."
   ]
  },
  {
   "cell_type": "code",
   "execution_count": 2,
   "metadata": {
    "execution": {
     "iopub.execute_input": "2021-02-23T15:56:23.437343Z",
     "iopub.status.busy": "2021-02-23T15:56:23.436638Z",
     "iopub.status.idle": "2021-02-23T15:56:24.686931Z",
     "shell.execute_reply": "2021-02-23T15:56:24.687251Z"
    }
   },
   "outputs": [],
   "source": [
    "from pathlib import Path\n",
    "\n",
    "import pandas as pd\n",
    "import numpy as np\n",
    "from sklearn.metrics import r2_score, mean_squared_error\n",
    "from sklearn.linear_model import LinearRegression\n",
    "\n",
    "import statsmodels.api as sm\n",
    "import statsmodels.formula.api as smf\n",
    "from statsmodels.stats.outliers_influence import OLSInfluence\n",
    "\n",
    "from pygam import LinearGAM, s, l\n",
    "from pygam.datasets import wage\n",
    "\n",
    "\n",
    "import seaborn as sns\n",
    "import matplotlib.pyplot as plt\n",
    "\n",
    "from dmba import stepwise_selection\n",
    "from dmba import AIC_score"
   ]
  },
  {
   "cell_type": "code",
   "execution_count": 3,
   "metadata": {
    "execution": {
     "iopub.execute_input": "2021-02-23T15:56:24.692659Z",
     "iopub.status.busy": "2021-02-23T15:56:24.692022Z",
     "iopub.status.idle": "2021-02-23T15:56:24.694637Z",
     "shell.execute_reply": "2021-02-23T15:56:24.694002Z"
    }
   },
   "outputs": [],
   "source": [
    "%matplotlib inline"
   ]
  },
  {
   "cell_type": "code",
   "execution_count": 4,
   "metadata": {
    "execution": {
     "iopub.execute_input": "2021-02-23T15:56:24.699436Z",
     "iopub.status.busy": "2021-02-23T15:56:24.698519Z",
     "iopub.status.idle": "2021-02-23T15:56:24.982072Z",
     "shell.execute_reply": "2021-02-23T15:56:24.981413Z"
    }
   },
   "outputs": [],
   "source": [
    "try:\n",
    "    import common\n",
    "    DATA = common.dataDirectory()\n",
    "except ImportError:\n",
    "    DATA = Path().resolve() / 'data'"
   ]
  },
  {
   "cell_type": "markdown",
   "metadata": {},
   "source": [
    "Define paths to data sets. If you don't keep your data in the same directory as the code, adapt the path names."
   ]
  },
  {
   "cell_type": "code",
   "execution_count": 5,
   "metadata": {
    "execution": {
     "iopub.execute_input": "2021-02-23T15:56:24.985549Z",
     "iopub.status.busy": "2021-02-23T15:56:24.984969Z",
     "iopub.status.idle": "2021-02-23T15:56:24.988143Z",
     "shell.execute_reply": "2021-02-23T15:56:24.987227Z"
    }
   },
   "outputs": [],
   "source": [
    "LUNG_CSV = DATA / 'LungDisease.csv'\n",
    "HOUSE_CSV = DATA / 'house_sales.csv'"
   ]
  },
  {
   "cell_type": "markdown",
   "metadata": {},
   "source": [
    "# Simple Linear Regression\n",
    "## The Regression Equation"
   ]
  },
  {
   "cell_type": "code",
   "execution_count": 6,
   "metadata": {
    "execution": {
     "iopub.execute_input": "2021-02-23T15:56:24.993943Z",
     "iopub.status.busy": "2021-02-23T15:56:24.993298Z",
     "iopub.status.idle": "2021-02-23T15:56:25.195902Z",
     "shell.execute_reply": "2021-02-23T15:56:25.195434Z"
    }
   },
   "outputs": [
    {
     "data": {
      "image/png": "[encoded data removed]",
      "text/plain": [
       "<Figure size 432x288 with 1 Axes>"
      ]
     },
     "metadata": {
      "needs_background": "light"
     },
     "output_type": "display_data"
    }
   ],
   "source": [
    "lung = pd.read_csv(LUNG_CSV)\n",
    "\n",
    "lung.plot.scatter(x='Exposure', y='PEFR')\n",
    "\n",
    "plt.tight_layout()\n",
    "plt.show()"
   ]
  },
  {
   "cell_type": "markdown",
   "metadata": {},
   "source": [
    "We can use the `LinearRegression` model from _scikit-learn_."
   ]
  },
  {
   "cell_type": "code",
   "execution_count": 7,
   "metadata": {
    "execution": {
     "iopub.execute_input": "2021-02-23T15:56:25.204834Z",
     "iopub.status.busy": "2021-02-23T15:56:25.204170Z",
     "iopub.status.idle": "2021-02-23T15:56:25.207031Z",
     "shell.execute_reply": "2021-02-23T15:56:25.207407Z"
    }
   },
   "outputs": [
    {
     "name": "stdout",
     "output_type": "stream",
     "text": [
      "Intercept: 424.583\n",
      "Coefficient Exposure: -4.185\n"
     ]
    }
   ],
   "source": [
    "predictors = ['Exposure']\n",
    "outcome = 'PEFR'\n",
    "\n",
    "model = LinearRegression()\n",
    "model.fit(lung[predictors], lung[outcome])\n",
    "\n",
    "print(f'Intercept: {model.intercept_:.3f}')\n",
    "print(f'Coefficient Exposure: {model.coef_[0]:.3f}')"
   ]
  },
  {
   "cell_type": "code",
   "execution_count": 8,
   "metadata": {
    "execution": {
     "iopub.execute_input": "2021-02-23T15:56:25.239844Z",
     "iopub.status.busy": "2021-02-23T15:56:25.232977Z",
     "iopub.status.idle": "2021-02-23T15:56:25.457699Z",
     "shell.execute_reply": "2021-02-23T15:56:25.458014Z"
    }
   },
   "outputs": [
    {
     "data": {
      "image/png": "[encoded data removed]",
      "text/plain": [
       "<Figure size 288x288 with 1 Axes>"
      ]
     },
     "metadata": {
      "needs_background": "light"
     },
     "output_type": "display_data"
    }
   ],
   "source": [
    "fig, ax = plt.subplots(figsize=(4, 4))\n",
    "ax.set_xlim(0, 23)\n",
    "ax.set_ylim(295, 450)\n",
    "ax.set_xlabel('Exposure')\n",
    "ax.set_ylabel('PEFR')\n",
    "ax.plot((0, 23), model.predict([[0], [23]]))\n",
    "ax.text(0.4, model.intercept_, r'$b_0$', size='larger')\n",
    "\n",
    "x = [[7.5], [17.5]]\n",
    "y = model.predict(x)\n",
    "ax.plot((7.5, 7.5, 17.5), (y[0], y[1], y[1]), '--')\n",
    "ax.text(5, np.mean(y), r'$\\Delta Y$', size='larger')\n",
    "ax.text(12, y[1] - 10, r'$\\Delta X$', size='larger')\n",
    "ax.text(12, 390, r'$b_1 = \\frac{\\Delta Y}{\\Delta X}$', size='larger')\n",
    "\n",
    "plt.tight_layout()\n",
    "plt.show()"
   ]
  },
  {
   "cell_type": "markdown",
   "metadata": {},
   "source": [
    "## Fitted Values and Residuals\n",
    "The method `predict` of a fitted _scikit-learn_ model can be used to predict new data points."
   ]
  },
  {
   "cell_type": "code",
   "execution_count": 9,
   "metadata": {
    "execution": {
     "iopub.execute_input": "2021-02-23T15:56:25.463673Z",
     "iopub.status.busy": "2021-02-23T15:56:25.462925Z",
     "iopub.status.idle": "2021-02-23T15:56:25.466735Z",
     "shell.execute_reply": "2021-02-23T15:56:25.466228Z"
    }
   },
   "outputs": [],
   "source": [
    "fitted = model.predict(lung[predictors])\n",
    "residuals = lung[outcome] - fitted"
   ]
  },
  {
   "cell_type": "code",
   "execution_count": 10,
   "metadata": {
    "execution": {
     "iopub.execute_input": "2021-02-23T15:56:25.480897Z",
     "iopub.status.busy": "2021-02-23T15:56:25.480377Z",
     "iopub.status.idle": "2021-02-23T15:56:25.718636Z",
     "shell.execute_reply": "2021-02-23T15:56:25.718959Z"
    }
   },
   "outputs": [
    {
     "data": {
      "image/png": "[encoded data removed]",
      "text/plain": [
       "<Figure size 288x288 with 1 Axes>"
      ]
     },
     "metadata": {
      "needs_background": "light"
     },
     "output_type": "display_data"
    }
   ],
   "source": [
    "ax = lung.plot.scatter(x='Exposure', y='PEFR', figsize=(4, 4))\n",
    "ax.plot(lung.Exposure, fitted)\n",
    "for x, yactual, yfitted in zip(lung.Exposure, lung.PEFR, fitted): \n",
    "    ax.plot((x, x), (yactual, yfitted), '--', color='C1')\n",
    "\n",
    "plt.tight_layout()\n",
    "plt.show()"
   ]
  },
  {
   "cell_type": "markdown",
   "metadata": {},
   "source": [
    "# Multiple linear regression"
   ]
  },
  {
   "cell_type": "code",
   "execution_count": 11,
   "metadata": {
    "execution": {
     "iopub.execute_input": "2021-02-23T15:56:25.722954Z",
     "iopub.status.busy": "2021-02-23T15:56:25.722440Z",
     "iopub.status.idle": "2021-02-23T15:56:25.791129Z",
     "shell.execute_reply": "2021-02-23T15:56:25.791562Z"
    }
   },
   "outputs": [
    {
     "name": "stdout",
     "output_type": "stream",
     "text": [
      "   AdjSalePrice  SqFtTotLiving  SqFtLot  Bathrooms  Bedrooms  BldgGrade\n",
      "1      300805.0           2400     9373       3.00         6          7\n",
      "2     1076162.0           3764    20156       3.75         4         10\n",
      "3      761805.0           2060    26036       1.75         4          8\n",
      "4      442065.0           3200     8618       3.75         5          7\n",
      "5      297065.0           1720     8620       1.75         4          7\n"
     ]
    }
   ],
   "source": [
    "subset = ['AdjSalePrice', 'SqFtTotLiving', 'SqFtLot', 'Bathrooms', \n",
    "          'Bedrooms', 'BldgGrade']\n",
    "\n",
    "house = pd.read_csv(HOUSE_CSV, sep='\\t')\n",
    "print(house[subset].head())"
   ]
  },
  {
   "cell_type": "code",
   "execution_count": 12,
   "metadata": {
    "execution": {
     "iopub.execute_input": "2021-02-23T15:56:25.797251Z",
     "iopub.status.busy": "2021-02-23T15:56:25.796800Z",
     "iopub.status.idle": "2021-02-23T15:56:25.802102Z",
     "shell.execute_reply": "2021-02-23T15:56:25.801681Z"
    }
   },
   "outputs": [
    {
     "name": "stdout",
     "output_type": "stream",
     "text": [
      "Intercept: -521871.368\n",
      "Coefficients:\n",
      " SqFtTotLiving: 228.83060360240796\n",
      " SqFtLot: -0.06046682065307607\n",
      " Bathrooms: -19442.840398321056\n",
      " Bedrooms: -47769.95518521438\n",
      " BldgGrade: 106106.96307898083\n"
     ]
    }
   ],
   "source": [
    "predictors = ['SqFtTotLiving', 'SqFtLot', 'Bathrooms', \n",
    "              'Bedrooms', 'BldgGrade']\n",
    "outcome = 'AdjSalePrice'\n",
    "\n",
    "house_lm = LinearRegression()\n",
    "house_lm.fit(house[predictors], house[outcome])\n",
    "\n",
    "print(f'Intercept: {house_lm.intercept_:.3f}')\n",
    "print('Coefficients:')\n",
    "for name, coef in zip(predictors, house_lm.coef_):\n",
    "    print(f' {name}: {coef}')"
   ]
  },
  {
   "cell_type": "markdown",
   "metadata": {},
   "source": [
    "## Assessing the Model\n",
    "_Scikit-learn_ provides a number of metrics to determine the quality of a model. Here we use the `r2_score`."
   ]
  },
  {
   "cell_type": "code",
   "execution_count": 13,
   "metadata": {
    "execution": {
     "iopub.execute_input": "2021-02-23T15:56:25.807280Z",
     "iopub.status.busy": "2021-02-23T15:56:25.806848Z",
     "iopub.status.idle": "2021-02-23T15:56:25.816006Z",
     "shell.execute_reply": "2021-02-23T15:56:25.815487Z"
    }
   },
   "outputs": [
    {
     "name": "stdout",
     "output_type": "stream",
     "text": [
      "RMSE: 261220\n",
      "r2: 0.5406\n"
     ]
    }
   ],
   "source": [
    "fitted = house_lm.predict(house[predictors])\n",
    "RMSE = np.sqrt(mean_squared_error(house[outcome], fitted))\n",
    "r2 = r2_score(house[outcome], fitted)\n",
    "print(f'RMSE: {RMSE:.0f}')\n",
    "print(f'r2: {r2:.4f}')"
   ]
  },
  {
   "cell_type": "markdown",
   "metadata": {},
   "source": [
    "While _scikit-learn_ provides a variety of different metrics, _statsmodels_ provides a more in-depth analysis of the linear regression model. This package has two different ways of specifying the model, one that is similar to _scikit-learn_ and one that allows specifying _R_-style formulas. Here we use the first approach. As _statsmodels_ doesn't add an intercept automaticaly, we need to add a constant column with value 1 to the predictors. We can use the _pandas_ method assign for this."
   ]
  },
  {
   "cell_type": "code",
   "execution_count": 14,
   "metadata": {
    "execution": {
     "iopub.execute_input": "2021-02-23T15:56:25.821880Z",
     "iopub.status.busy": "2021-02-23T15:56:25.821282Z",
     "iopub.status.idle": "2021-02-23T15:56:25.842522Z",
     "shell.execute_reply": "2021-02-23T15:56:25.843266Z"
    }
   },
   "outputs": [
    {
     "name": "stdout",
     "output_type": "stream",
     "text": [
      "                            OLS Regression Results                            \n",
      "==============================================================================\n",
      "Dep. Variable:           AdjSalePrice   R-squared:                       0.541\n",
      "Model:                            OLS   Adj. R-squared:                  0.540\n",
      "Method:                 Least Squares   F-statistic:                     5338.\n",
      "Date:                Wed, 12 May 2021   Prob (F-statistic):               0.00\n",
      "Time:                        15:19:57   Log-Likelihood:            -3.1517e+05\n",
      "No. Observations:               22687   AIC:                         6.304e+05\n",
      "Df Residuals:                   22681   BIC:                         6.304e+05\n",
      "Df Model:                           5                                         \n",
      "Covariance Type:            nonrobust                                         \n",
      "=================================================================================\n",
      "                    coef    std err          t      P>|t|      [0.025      0.975]\n",
      "---------------------------------------------------------------------------------\n",
      "SqFtTotLiving   228.8306      3.899     58.694      0.000     221.189     236.472\n",
      "SqFtLot          -0.0605      0.061     -0.988      0.323      -0.180       0.059\n",
      "Bathrooms     -1.944e+04   3625.388     -5.363      0.000   -2.65e+04   -1.23e+04\n",
      "Bedrooms      -4.777e+04   2489.732    -19.187      0.000   -5.27e+04   -4.29e+04\n",
      "BldgGrade      1.061e+05   2396.445     44.277      0.000    1.01e+05    1.11e+05\n",
      "const         -5.219e+05   1.57e+04    -33.342      0.000   -5.53e+05   -4.91e+05\n",
      "==============================================================================\n",
      "Omnibus:                    29676.557   Durbin-Watson:                   1.247\n",
      "Prob(Omnibus):                  0.000   Jarque-Bera (JB):         19390738.346\n",
      "Skew:                           6.889   Prob(JB):                         0.00\n",
      "Kurtosis:                     145.559   Cond. No.                     2.86e+05\n",
      "==============================================================================\n",
      "\n",
      "Notes:\n",
      "[1] Standard Errors assume that the covariance matrix of the errors is correctly specified.\n",
      "[2] The condition number is large, 2.86e+05. This might indicate that there are\n",
      "strong multicollinearity or other numerical problems.\n"
     ]
    }
   ],
   "source": [
    "model = sm.OLS(house[outcome], house[predictors].assign(const=1))\n",
    "results = model.fit()\n",
    "print(results.summary())"
   ]
  },
  {
   "cell_type": "markdown",
   "metadata": {},
   "source": [
    "## Model Selection and Stepwise Regression"
   ]
  },
  {
   "cell_type": "code",
   "execution_count": 15,
   "metadata": {
    "execution": {
     "iopub.execute_input": "2021-02-23T15:56:25.853500Z",
     "iopub.status.busy": "2021-02-23T15:56:25.848218Z",
     "iopub.status.idle": "2021-02-23T15:56:25.889391Z",
     "shell.execute_reply": "2021-02-23T15:56:25.890176Z"
    }
   },
   "outputs": [
    {
     "name": "stdout",
     "output_type": "stream",
     "text": [
      "                            OLS Regression Results                            \n",
      "==============================================================================\n",
      "Dep. Variable:           AdjSalePrice   R-squared:                       0.595\n",
      "Model:                            OLS   Adj. R-squared:                  0.594\n",
      "Method:                 Least Squares   F-statistic:                     2771.\n",
      "Date:                Wed, 12 May 2021   Prob (F-statistic):               0.00\n",
      "Time:                        15:19:57   Log-Likelihood:            -3.1375e+05\n",
      "No. Observations:               22687   AIC:                         6.275e+05\n",
      "Df Residuals:                   22674   BIC:                         6.276e+05\n",
      "Df Model:                          12                                         \n",
      "Covariance Type:            nonrobust                                         \n",
      "==============================================================================================\n",
      "                                 coef    std err          t      P>|t|      [0.025      0.975]\n",
      "----------------------------------------------------------------------------------------------\n",
      "SqFtTotLiving                198.6364      4.234     46.920      0.000     190.338     206.934\n",
      "SqFtLot                        0.0771      0.058      1.330      0.184      -0.037       0.191\n",
      "Bathrooms                   4.286e+04   3808.114     11.255      0.000    3.54e+04    5.03e+04\n",
      "Bedrooms                   -5.187e+04   2396.904    -21.638      0.000   -5.66e+04   -4.72e+04\n",
      "BldgGrade                   1.373e+05   2441.242     56.228      0.000    1.32e+05    1.42e+05\n",
      "NbrLivingUnits              5723.8438   1.76e+04      0.326      0.744   -2.87e+04    4.01e+04\n",
      "SqFtFinBasement                7.0611      4.627      1.526      0.127      -2.009      16.131\n",
      "YrBuilt                    -3574.2210     77.228    -46.282      0.000   -3725.593   -3422.849\n",
      "YrRenovated                   -2.5311      3.924     -0.645      0.519     -10.222       5.160\n",
      "NewConstruction            -2489.1122   5936.692     -0.419      0.675   -1.41e+04    9147.211\n",
      "PropertyType_Single Family  2.997e+04   2.61e+04      1.149      0.251   -2.12e+04    8.11e+04\n",
      "PropertyType_Townhouse      9.286e+04    2.7e+04      3.438      0.001    3.99e+04    1.46e+05\n",
      "const                       6.182e+06   1.55e+05     39.902      0.000    5.88e+06    6.49e+06\n",
      "==============================================================================\n",
      "Omnibus:                    31006.128   Durbin-Watson:                   1.393\n",
      "Prob(Omnibus):                  0.000   Jarque-Bera (JB):         26251977.078\n",
      "Skew:                           7.427   Prob(JB):                         0.00\n",
      "Kurtosis:                     168.984   Cond. No.                     2.98e+06\n",
      "==============================================================================\n",
      "\n",
      "Notes:\n",
      "[1] Standard Errors assume that the covariance matrix of the errors is correctly specified.\n",
      "[2] The condition number is large, 2.98e+06. This might indicate that there are\n",
      "strong multicollinearity or other numerical problems.\n"
     ]
    }
   ],
   "source": [
    "predictors = ['SqFtTotLiving', 'SqFtLot', 'Bathrooms', 'Bedrooms',\n",
    "              'BldgGrade', 'PropertyType', 'NbrLivingUnits',\n",
    "              'SqFtFinBasement', 'YrBuilt', 'YrRenovated', \n",
    "              'NewConstruction']\n",
    "\n",
    "X = pd.get_dummies(house[predictors], drop_first=True)\n",
    "X['NewConstruction'] = [1 if nc else 0 for nc in X['NewConstruction']]\n",
    "\n",
    "house_full = sm.OLS(house[outcome], X.assign(const=1))\n",
    "results = house_full.fit()\n",
    "print(results.summary())"
   ]
  },
  {
   "cell_type": "markdown",
   "metadata": {},
   "source": [
    "We can use the `stepwise_selection` method from the _dmba_ package."
   ]
  },
  {
   "cell_type": "code",
   "execution_count": 16,
   "metadata": {
    "execution": {
     "iopub.execute_input": "2021-02-23T15:56:25.896023Z",
     "iopub.status.busy": "2021-02-23T15:56:25.895069Z",
     "iopub.status.idle": "2021-02-23T15:56:26.501169Z",
     "shell.execute_reply": "2021-02-23T15:56:26.501922Z"
    }
   },
   "outputs": [
    {
     "name": "stdout",
     "output_type": "stream",
     "text": [
      "Variables: SqFtTotLiving, SqFtLot, Bathrooms, Bedrooms, BldgGrade, NbrLivingUnits, SqFtFinBasement, YrBuilt, YrRenovated, NewConstruction, PropertyType_Single Family, PropertyType_Townhouse\n",
      "Start: score=647988.32, constant\n",
      "Step: score=633013.35, add SqFtTotLiving\n",
      "Step: score=630793.74, add BldgGrade\n",
      "Step: score=628230.29, add YrBuilt\n",
      "Step: score=627784.16, add Bedrooms\n",
      "Step: score=627602.21, add Bathrooms\n",
      "Step: score=627525.65, add PropertyType_Townhouse\n",
      "Step: score=627525.08, add SqFtFinBasement\n",
      "Step: score=627524.98, add PropertyType_Single Family\n",
      "Step: score=627524.98, unchanged None\n",
      "\n",
      "Intercept: 6178645.017\n",
      "Coefficients:\n",
      " SqFtTotLiving: 199.27755304201884\n",
      " BldgGrade: 137159.56022619773\n",
      " YrBuilt: -3565.4249392492993\n",
      " Bedrooms: -51947.38367361318\n",
      " Bathrooms: 42396.164527717796\n",
      " PropertyType_Townhouse: 84479.16203300405\n",
      " SqFtFinBasement: 7.046974967553979\n",
      " PropertyType_Single Family: 22912.055187017682\n"
     ]
    }
   ],
   "source": [
    "y = house[outcome]\n",
    "\n",
    "def train_model(variables):\n",
    "    if len(variables) == 0:\n",
    "        return None\n",
    "    model = LinearRegression()\n",
    "    model.fit(X[variables], y)\n",
    "    return model\n",
    "\n",
    "def score_model(model, variables):\n",
    "    if len(variables) == 0:\n",
    "        return AIC_score(y, [y.mean()] * len(y), model, df=1)\n",
    "    return AIC_score(y, model.predict(X[variables]), model)\n",
    "\n",
    "best_model, best_variables = stepwise_selection(X.columns, train_model, score_model, \n",
    "                                                verbose=True)\n",
    "\n",
    "print()\n",
    "print(f'Intercept: {best_model.intercept_:.3f}')\n",
    "print('Coefficients:')\n",
    "for name, coef in zip(best_variables, best_model.coef_):\n",
    "    print(f' {name}: {coef}')"
   ]
  },
  {
   "cell_type": "markdown",
   "metadata": {},
   "source": [
    "## Weighted regression\n",
    "We can calculate the Year from the date column using either a list comprehension or the data frame's `apply` method."
   ]
  },
  {
   "cell_type": "code",
   "execution_count": 17,
   "metadata": {
    "execution": {
     "iopub.execute_input": "2021-02-23T15:56:26.515703Z",
     "iopub.status.busy": "2021-02-23T15:56:26.510171Z",
     "iopub.status.idle": "2021-02-23T15:56:26.539501Z",
     "shell.execute_reply": "2021-02-23T15:56:26.540490Z"
    }
   },
   "outputs": [],
   "source": [
    "house['Year'] = [int(date.split('-')[0]) for date in house.DocumentDate]\n",
    "house['Year'] = house.DocumentDate.apply(lambda d: int(d.split('-')[0]))\n",
    "house['Weight'] = house.Year - 2005"
   ]
  },
  {
   "cell_type": "code",
   "execution_count": 18,
   "metadata": {
    "execution": {
     "iopub.execute_input": "2021-02-23T15:56:26.546070Z",
     "iopub.status.busy": "2021-02-23T15:56:26.545497Z",
     "iopub.status.idle": "2021-02-23T15:56:26.567338Z",
     "shell.execute_reply": "2021-02-23T15:56:26.568037Z"
    }
   },
   "outputs": [
    {
     "data": {
      "text/html": [
       "<div>\n",
       "<style scoped>\n",
       "    .dataframe tbody tr th:only-of-type {\n",
       "        vertical-align: middle;\n",
       "    }\n",
       "\n",
       "    .dataframe tbody tr th {\n",
       "        vertical-align: top;\n",
       "    }\n",
       "\n",
       "    .dataframe thead th {\n",
       "        text-align: right;\n",
       "    }\n",
       "</style>\n",
       "<table border=\"1\" class=\"dataframe\">\n",
       "  <thead>\n",
       "    <tr style=\"text-align: right;\">\n",
       "      <th></th>\n",
       "      <th>predictor</th>\n",
       "      <th>house_lm</th>\n",
       "      <th>house_wt</th>\n",
       "    </tr>\n",
       "  </thead>\n",
       "  <tbody>\n",
       "    <tr>\n",
       "      <th>0</th>\n",
       "      <td>SqFtTotLiving</td>\n",
       "      <td>228.830604</td>\n",
       "      <td>245.024089</td>\n",
       "    </tr>\n",
       "    <tr>\n",
       "      <th>1</th>\n",
       "      <td>SqFtLot</td>\n",
       "      <td>-0.060467</td>\n",
       "      <td>-0.292415</td>\n",
       "    </tr>\n",
       "    <tr>\n",
       "      <th>2</th>\n",
       "      <td>Bathrooms</td>\n",
       "      <td>-19442.840398</td>\n",
       "      <td>-26085.970109</td>\n",
       "    </tr>\n",
       "    <tr>\n",
       "      <th>3</th>\n",
       "      <td>Bedrooms</td>\n",
       "      <td>-47769.955185</td>\n",
       "      <td>-53608.876436</td>\n",
       "    </tr>\n",
       "    <tr>\n",
       "      <th>4</th>\n",
       "      <td>BldgGrade</td>\n",
       "      <td>106106.963079</td>\n",
       "      <td>115242.434726</td>\n",
       "    </tr>\n",
       "    <tr>\n",
       "      <th>5</th>\n",
       "      <td>intercept</td>\n",
       "      <td>-521871.368188</td>\n",
       "      <td>-584189.329446</td>\n",
       "    </tr>\n",
       "  </tbody>\n",
       "</table>\n",
       "</div>"
      ],
      "text/plain": [
       "       predictor       house_lm       house_wt\n",
       "0  SqFtTotLiving     228.830604     245.024089\n",
       "1        SqFtLot      -0.060467      -0.292415\n",
       "2      Bathrooms  -19442.840398  -26085.970109\n",
       "3       Bedrooms  -47769.955185  -53608.876436\n",
       "4      BldgGrade  106106.963079  115242.434726\n",
       "5      intercept -521871.368188 -584189.329446"
      ]
     },
     "execution_count": 18,
     "metadata": {},
     "output_type": "execute_result"
    }
   ],
   "source": [
    "predictors = ['SqFtTotLiving', 'SqFtLot', 'Bathrooms', \n",
    "              'Bedrooms', 'BldgGrade']\n",
    "outcome = 'AdjSalePrice'\n",
    "\n",
    "house_wt = LinearRegression()\n",
    "house_wt.fit(house[predictors], house[outcome], sample_weight=house.Weight)\n",
    "pd.DataFrame({\n",
    "    'predictor': predictors,\n",
    "    'house_lm': house_lm.coef_,\n",
    "    'house_wt': house_wt.coef_,\n",
    "}).append({\n",
    "    'predictor': 'intercept', \n",
    "    'house_lm': house_lm.intercept_,\n",
    "    'house_wt': house_wt.intercept_,\n",
    "}, ignore_index=True)"
   ]
  },
  {
   "cell_type": "code",
   "execution_count": 19,
   "metadata": {
    "execution": {
     "iopub.execute_input": "2021-02-23T15:56:26.576014Z",
     "iopub.status.busy": "2021-02-23T15:56:26.575427Z",
     "iopub.status.idle": "2021-02-23T15:56:26.598776Z",
     "shell.execute_reply": "2021-02-23T15:56:26.597664Z"
    },
    "scrolled": false
   },
   "outputs": [
    {
     "name": "stdout",
     "output_type": "stream",
     "text": [
      "   abs_residual_lm  abs_residual_wt  Year\n",
      "1    123750.814194    107108.553965  2014\n",
      "2     59145.413089     96191.882094  2006\n",
      "3    190108.725716    187004.492880  2007\n",
      "4    198788.774412    196132.996857  2008\n",
      "5     91774.996129     84277.577512  2013\n"
     ]
    },
    {
     "data": {
      "text/html": [
       "<div>\n",
       "<style scoped>\n",
       "    .dataframe tbody tr th:only-of-type {\n",
       "        vertical-align: middle;\n",
       "    }\n",
       "\n",
       "    .dataframe tbody tr th {\n",
       "        vertical-align: top;\n",
       "    }\n",
       "\n",
       "    .dataframe thead th {\n",
       "        text-align: right;\n",
       "    }\n",
       "</style>\n",
       "<table border=\"1\" class=\"dataframe\">\n",
       "  <thead>\n",
       "    <tr style=\"text-align: right;\">\n",
       "      <th></th>\n",
       "      <th>Year</th>\n",
       "      <th>mean abs_residual_lm</th>\n",
       "      <th>mean abs_residual_wt</th>\n",
       "    </tr>\n",
       "  </thead>\n",
       "  <tbody>\n",
       "    <tr>\n",
       "      <th>0</th>\n",
       "      <td>2006</td>\n",
       "      <td>140540.303585</td>\n",
       "      <td>146557.454636</td>\n",
       "    </tr>\n",
       "    <tr>\n",
       "      <th>1</th>\n",
       "      <td>2007</td>\n",
       "      <td>147747.577959</td>\n",
       "      <td>152848.523235</td>\n",
       "    </tr>\n",
       "    <tr>\n",
       "      <th>2</th>\n",
       "      <td>2008</td>\n",
       "      <td>142086.905943</td>\n",
       "      <td>146360.411668</td>\n",
       "    </tr>\n",
       "    <tr>\n",
       "      <th>3</th>\n",
       "      <td>2009</td>\n",
       "      <td>147016.720883</td>\n",
       "      <td>151182.924825</td>\n",
       "    </tr>\n",
       "    <tr>\n",
       "      <th>4</th>\n",
       "      <td>2010</td>\n",
       "      <td>163267.674885</td>\n",
       "      <td>166364.476152</td>\n",
       "    </tr>\n",
       "    <tr>\n",
       "      <th>5</th>\n",
       "      <td>2011</td>\n",
       "      <td>169937.385744</td>\n",
       "      <td>172950.876028</td>\n",
       "    </tr>\n",
       "    <tr>\n",
       "      <th>6</th>\n",
       "      <td>2012</td>\n",
       "      <td>169506.670053</td>\n",
       "      <td>171874.424266</td>\n",
       "    </tr>\n",
       "    <tr>\n",
       "      <th>7</th>\n",
       "      <td>2013</td>\n",
       "      <td>203659.777510</td>\n",
       "      <td>206242.199403</td>\n",
       "    </tr>\n",
       "    <tr>\n",
       "      <th>8</th>\n",
       "      <td>2014</td>\n",
       "      <td>184452.840665</td>\n",
       "      <td>186668.573750</td>\n",
       "    </tr>\n",
       "    <tr>\n",
       "      <th>9</th>\n",
       "      <td>2015</td>\n",
       "      <td>172323.435147</td>\n",
       "      <td>169842.742053</td>\n",
       "    </tr>\n",
       "  </tbody>\n",
       "</table>\n",
       "</div>"
      ],
      "text/plain": [
       "   Year  mean abs_residual_lm  mean abs_residual_wt\n",
       "0  2006         140540.303585         146557.454636\n",
       "1  2007         147747.577959         152848.523235\n",
       "2  2008         142086.905943         146360.411668\n",
       "3  2009         147016.720883         151182.924825\n",
       "4  2010         163267.674885         166364.476152\n",
       "5  2011         169937.385744         172950.876028\n",
       "6  2012         169506.670053         171874.424266\n",
       "7  2013         203659.777510         206242.199403\n",
       "8  2014         184452.840665         186668.573750\n",
       "9  2015         172323.435147         169842.742053"
      ]
     },
     "execution_count": 19,
     "metadata": {},
     "output_type": "execute_result"
    }
   ],
   "source": [
    "residuals = pd.DataFrame({\n",
    "    'abs_residual_lm': np.abs(house_lm.predict(house[predictors]) - house[outcome]),\n",
    "    'abs_residual_wt': np.abs(house_wt.predict(house[predictors]) - house[outcome]),\n",
    "    'Year': house['Year'],\n",
    "})\n",
    "print(residuals.head())\n",
    "# axes = residuals.boxplot(['abs_residual_lm', 'abs_residual_wt'], by='Year', figsize=(10, 4))\n",
    "# axes[0].set_ylim(0, 300000)\n",
    "\n",
    "pd.DataFrame(([year, np.mean(group['abs_residual_lm']), np.mean(group['abs_residual_wt'])] \n",
    "              for year, group in residuals.groupby('Year')),\n",
    "             columns=['Year', 'mean abs_residual_lm', 'mean abs_residual_wt'])\n",
    "# for year, group in residuals.groupby('Year'):\n",
    "#     print(year, np.mean(group['abs_residual_lm']), np.mean(group['abs_residual_wt']))"
   ]
  },
  {
   "cell_type": "markdown",
   "metadata": {},
   "source": [
    "# Factor variables in regression\n",
    "## Dummy Variables Representation"
   ]
  },
  {
   "cell_type": "code",
   "execution_count": 20,
   "metadata": {
    "execution": {
     "iopub.execute_input": "2021-02-23T15:56:26.603077Z",
     "iopub.status.busy": "2021-02-23T15:56:26.602141Z",
     "iopub.status.idle": "2021-02-23T15:56:26.608258Z",
     "shell.execute_reply": "2021-02-23T15:56:26.607393Z"
    }
   },
   "outputs": [
    {
     "name": "stdout",
     "output_type": "stream",
     "text": [
      "1        Multiplex\n",
      "2    Single Family\n",
      "3    Single Family\n",
      "4    Single Family\n",
      "5    Single Family\n",
      "Name: PropertyType, dtype: object\n"
     ]
    }
   ],
   "source": [
    "print(house.PropertyType.head())"
   ]
  },
  {
   "cell_type": "code",
   "execution_count": 21,
   "metadata": {
    "execution": {
     "iopub.execute_input": "2021-02-23T15:56:26.612364Z",
     "iopub.status.busy": "2021-02-23T15:56:26.611753Z",
     "iopub.status.idle": "2021-02-23T15:56:26.618950Z",
     "shell.execute_reply": "2021-02-23T15:56:26.619653Z"
    }
   },
   "outputs": [
    {
     "name": "stdout",
     "output_type": "stream",
     "text": [
      "   Multiplex  Single Family  Townhouse\n",
      "1          1              0          0\n",
      "2          0              1          0\n",
      "3          0              1          0\n",
      "4          0              1          0\n",
      "5          0              1          0\n",
      "6          0              0          1\n"
     ]
    }
   ],
   "source": [
    "print(pd.get_dummies(house['PropertyType']).head(6))"
   ]
  },
  {
   "cell_type": "code",
   "execution_count": 22,
   "metadata": {
    "execution": {
     "iopub.execute_input": "2021-02-23T15:56:26.625204Z",
     "iopub.status.busy": "2021-02-23T15:56:26.623540Z",
     "iopub.status.idle": "2021-02-23T15:56:26.631121Z",
     "shell.execute_reply": "2021-02-23T15:56:26.631780Z"
    }
   },
   "outputs": [
    {
     "name": "stdout",
     "output_type": "stream",
     "text": [
      "   Single Family  Townhouse\n",
      "1              0          0\n",
      "2              1          0\n",
      "3              1          0\n",
      "4              1          0\n",
      "5              1          0\n",
      "6              0          1\n"
     ]
    }
   ],
   "source": [
    "print(pd.get_dummies(house['PropertyType'], drop_first=True).head(6))"
   ]
  },
  {
   "cell_type": "code",
   "execution_count": 23,
   "metadata": {
    "execution": {
     "iopub.execute_input": "2021-02-23T15:56:26.634305Z",
     "iopub.status.busy": "2021-02-23T15:56:26.633709Z",
     "iopub.status.idle": "2021-02-23T15:56:26.649822Z",
     "shell.execute_reply": "2021-02-23T15:56:26.650376Z"
    }
   },
   "outputs": [
    {
     "name": "stdout",
     "output_type": "stream",
     "text": [
      "Intercept: -446841.366\n",
      "Coefficients:\n",
      " SqFtTotLiving: 223.37362892503822\n",
      " SqFtLot: -0.0703679813681255\n",
      " Bathrooms: -15979.013473415183\n",
      " Bedrooms: -50889.73218483028\n",
      " BldgGrade: 109416.3051614618\n",
      " PropertyType_Single Family: -84678.21629549256\n",
      " PropertyType_Townhouse: -115121.97921609186\n"
     ]
    }
   ],
   "source": [
    "predictors = ['SqFtTotLiving', 'SqFtLot', 'Bathrooms', 'Bedrooms',\n",
    "              'BldgGrade', 'PropertyType']\n",
    "\n",
    "X = pd.get_dummies(house[predictors], drop_first=True)\n",
    "\n",
    "house_lm_factor = LinearRegression()\n",
    "house_lm_factor.fit(X, house[outcome])\n",
    "\n",
    "print(f'Intercept: {house_lm_factor.intercept_:.3f}')\n",
    "print('Coefficients:')\n",
    "for name, coef in zip(X.columns, house_lm_factor.coef_):\n",
    "    print(f' {name}: {coef}')"
   ]
  },
  {
   "cell_type": "markdown",
   "metadata": {},
   "source": [
    "## Factor Variables with many levels"
   ]
  },
  {
   "cell_type": "code",
   "execution_count": 24,
   "metadata": {
    "execution": {
     "iopub.execute_input": "2021-02-23T15:56:26.653284Z",
     "iopub.status.busy": "2021-02-23T15:56:26.652654Z",
     "iopub.status.idle": "2021-02-23T15:56:26.662874Z",
     "shell.execute_reply": "2021-02-23T15:56:26.663407Z"
    }
   },
   "outputs": [
    {
     "name": "stdout",
     "output_type": "stream",
     "text": [
      "         98038  98103  98042  98115  98117  98052  98034  98033  98059  98074  \\\n",
      "ZipCode    788    671    641    620    619    614    575    517    513    502   \n",
      "\n",
      "         ...  98051  98024  98354  98050  98288  98057  98224  98113  98043  \\\n",
      "ZipCode  ...     32     31      9      7      4      4      3      1      1   \n",
      "\n",
      "         98068  \n",
      "ZipCode      1  \n",
      "\n",
      "[1 rows x 80 columns]\n"
     ]
    }
   ],
   "source": [
    "print(pd.DataFrame(house['ZipCode'].value_counts()).transpose())"
   ]
  },
  {
   "cell_type": "code",
   "execution_count": 25,
   "metadata": {
    "execution": {
     "iopub.execute_input": "2021-02-23T15:56:26.666173Z",
     "iopub.status.busy": "2021-02-23T15:56:26.665511Z",
     "iopub.status.idle": "2021-02-23T15:56:26.765941Z",
     "shell.execute_reply": "2021-02-23T15:56:26.767035Z"
    }
   },
   "outputs": [
    {
     "name": "stdout",
     "output_type": "stream",
     "text": [
      "0    16\n",
      "1    16\n",
      "2    16\n",
      "3    16\n",
      "4    16\n",
      "Name: ZipGroup, dtype: int64\n"
     ]
    }
   ],
   "source": [
    "house = pd.read_csv(HOUSE_CSV, sep='\\t')\n",
    "\n",
    "predictors = ['SqFtTotLiving', 'SqFtLot', 'Bathrooms', \n",
    "              'Bedrooms', 'BldgGrade']\n",
    "outcome = 'AdjSalePrice'\n",
    "\n",
    "house_lm = LinearRegression()\n",
    "house_lm.fit(house[predictors], house[outcome])\n",
    "\n",
    "\n",
    "zip_groups = pd.DataFrame([\n",
    "    *pd.DataFrame({\n",
    "        'ZipCode': house['ZipCode'],\n",
    "        'residual' : house[outcome] - house_lm.predict(house[predictors]),\n",
    "    })\n",
    "    .groupby(['ZipCode'])\n",
    "    .apply(lambda x: {\n",
    "        'ZipCode': x.iloc[0,0],\n",
    "        'count': len(x),\n",
    "        'median_residual': x.residual.median()\n",
    "    })\n",
    "]).sort_values('median_residual')\n",
    "zip_groups['cum_count'] = np.cumsum(zip_groups['count'])\n",
    "zip_groups['ZipGroup'] = pd.qcut(zip_groups['cum_count'], 5, labels=False, retbins=False)\n",
    "zip_groups.head()\n",
    "print(zip_groups.ZipGroup.value_counts().sort_index())"
   ]
  },
  {
   "cell_type": "code",
   "execution_count": 26,
   "metadata": {
    "execution": {
     "iopub.execute_input": "2021-02-23T15:56:26.770016Z",
     "iopub.status.busy": "2021-02-23T15:56:26.769214Z",
     "iopub.status.idle": "2021-02-23T15:56:26.787245Z",
     "shell.execute_reply": "2021-02-23T15:56:26.787917Z"
    }
   },
   "outputs": [],
   "source": [
    "to_join = zip_groups[['ZipCode', 'ZipGroup']].set_index('ZipCode')\n",
    "house = house.join(to_join, on='ZipCode')\n",
    "house['ZipGroup'] = house['ZipGroup'].astype('category')"
   ]
  },
  {
   "cell_type": "markdown",
   "metadata": {},
   "source": [
    "# Interpreting the Regression Equation\n",
    "## Correlated predictors"
   ]
  },
  {
   "cell_type": "markdown",
   "metadata": {},
   "source": [
    "The results from the stepwise regression are."
   ]
  },
  {
   "cell_type": "code",
   "execution_count": 27,
   "metadata": {
    "execution": {
     "iopub.execute_input": "2021-02-23T15:56:26.791082Z",
     "iopub.status.busy": "2021-02-23T15:56:26.790442Z",
     "iopub.status.idle": "2021-02-23T15:56:26.795839Z",
     "shell.execute_reply": "2021-02-23T15:56:26.796362Z"
    }
   },
   "outputs": [
    {
     "name": "stdout",
     "output_type": "stream",
     "text": [
      "Intercept: 6178645.017\n",
      "Coefficients:\n",
      " SqFtTotLiving: 199.27755304201884\n",
      " BldgGrade: 137159.56022619773\n",
      " YrBuilt: -3565.4249392492993\n",
      " Bedrooms: -51947.38367361318\n",
      " Bathrooms: 42396.164527717796\n",
      " PropertyType_Townhouse: 84479.16203300405\n",
      " SqFtFinBasement: 7.046974967553979\n",
      " PropertyType_Single Family: 22912.055187017682\n"
     ]
    }
   ],
   "source": [
    "print(f'Intercept: {best_model.intercept_:.3f}')\n",
    "print('Coefficients:')\n",
    "for name, coef in zip(best_variables, best_model.coef_):\n",
    "    print(f' {name}: {coef}')"
   ]
  },
  {
   "cell_type": "code",
   "execution_count": 28,
   "metadata": {
    "execution": {
     "iopub.execute_input": "2021-02-23T15:56:26.799128Z",
     "iopub.status.busy": "2021-02-23T15:56:26.798447Z",
     "iopub.status.idle": "2021-02-23T15:56:26.814157Z",
     "shell.execute_reply": "2021-02-23T15:56:26.814801Z"
    }
   },
   "outputs": [
    {
     "name": "stdout",
     "output_type": "stream",
     "text": [
      "Intercept: 4913973.344\n",
      "Coefficients:\n",
      " Bedrooms: 27150.537230215377\n",
      " BldgGrade: 248997.79366213758\n",
      " YrBuilt: -3211.7448621550866\n",
      " PropertyType_Single Family: -19898.495340502435\n",
      " PropertyType_Townhouse: -47355.4368733449\n"
     ]
    }
   ],
   "source": [
    "predictors = ['Bedrooms', 'BldgGrade', 'PropertyType', 'YrBuilt']\n",
    "outcome = 'AdjSalePrice'\n",
    "\n",
    "X = pd.get_dummies(house[predictors], drop_first=True)\n",
    "\n",
    "reduced_lm = LinearRegression()\n",
    "reduced_lm.fit(X, house[outcome])\n",
    "\n",
    "\n",
    "print(f'Intercept: {reduced_lm.intercept_:.3f}')\n",
    "print('Coefficients:')\n",
    "for name, coef in zip(X.columns, reduced_lm.coef_):\n",
    "    print(f' {name}: {coef}')"
   ]
  },
  {
   "cell_type": "markdown",
   "metadata": {},
   "source": [
    "## Confounding variables"
   ]
  },
  {
   "cell_type": "code",
   "execution_count": 29,
   "metadata": {
    "execution": {
     "iopub.execute_input": "2021-02-23T15:56:26.818014Z",
     "iopub.status.busy": "2021-02-23T15:56:26.817345Z",
     "iopub.status.idle": "2021-02-23T15:56:26.836376Z",
     "shell.execute_reply": "2021-02-23T15:56:26.837046Z"
    },
    "scrolled": true
   },
   "outputs": [
    {
     "name": "stdout",
     "output_type": "stream",
     "text": [
      "Intercept: -666637.469\n",
      "Coefficients:\n",
      " SqFtTotLiving: 210.61266005580154\n",
      " SqFtLot: 0.45498713854659023\n",
      " Bathrooms: 5928.425640001688\n",
      " Bedrooms: -41682.87184074478\n",
      " BldgGrade: 98541.18352725968\n",
      " PropertyType_Single Family: 19323.625287919207\n",
      " PropertyType_Townhouse: -78198.720927624\n",
      " ZipGroup_1: 53317.17330659813\n",
      " ZipGroup_2: 116251.58883563554\n",
      " ZipGroup_3: 178360.53178793375\n",
      " ZipGroup_4: 338408.60185652\n"
     ]
    }
   ],
   "source": [
    "predictors = ['SqFtTotLiving', 'SqFtLot', 'Bathrooms', 'Bedrooms',\n",
    "              'BldgGrade', 'PropertyType', 'ZipGroup']\n",
    "outcome = 'AdjSalePrice'\n",
    "\n",
    "X = pd.get_dummies(house[predictors], drop_first=True)\n",
    "\n",
    "confounding_lm = LinearRegression()\n",
    "confounding_lm.fit(X, house[outcome])\n",
    "\n",
    "print(f'Intercept: {confounding_lm.intercept_:.3f}')\n",
    "print('Coefficients:')\n",
    "for name, coef in zip(X.columns, confounding_lm.coef_):\n",
    "    print(f' {name}: {coef}')"
   ]
  },
  {
   "cell_type": "markdown",
   "metadata": {},
   "source": [
    "## Interactions and Main Effects"
   ]
  },
  {
   "cell_type": "code",
   "execution_count": 30,
   "metadata": {
    "execution": {
     "iopub.execute_input": "2021-02-23T15:56:26.840138Z",
     "iopub.status.busy": "2021-02-23T15:56:26.839304Z",
     "iopub.status.idle": "2021-02-23T15:56:26.933913Z",
     "shell.execute_reply": "2021-02-23T15:56:26.933270Z"
    },
    "scrolled": false
   },
   "outputs": [
    {
     "name": "stdout",
     "output_type": "stream",
     "text": [
      "                            OLS Regression Results                            \n",
      "==============================================================================\n",
      "Dep. Variable:           AdjSalePrice   R-squared:                       0.682\n",
      "Model:                            OLS   Adj. R-squared:                  0.682\n",
      "Method:                 Least Squares   F-statistic:                     3247.\n",
      "Date:                Wed, 12 May 2021   Prob (F-statistic):               0.00\n",
      "Time:                        15:19:59   Log-Likelihood:            -3.1098e+05\n",
      "No. Observations:               22687   AIC:                         6.220e+05\n",
      "Df Residuals:                   22671   BIC:                         6.221e+05\n",
      "Df Model:                          15                                         \n",
      "Covariance Type:            nonrobust                                         \n",
      "=================================================================================================\n",
      "                                    coef    std err          t      P>|t|      [0.025      0.975]\n",
      "-------------------------------------------------------------------------------------------------\n",
      "Intercept                     -4.853e+05   2.05e+04    -23.701      0.000   -5.25e+05   -4.45e+05\n",
      "ZipGroup[T.1]                 -1.113e+04   1.34e+04     -0.830      0.407   -3.74e+04    1.52e+04\n",
      "ZipGroup[T.2]                  2.032e+04   1.18e+04      1.717      0.086   -2877.441    4.35e+04\n",
      "ZipGroup[T.3]                   2.05e+04   1.21e+04      1.697      0.090   -3180.870    4.42e+04\n",
      "ZipGroup[T.4]                 -1.499e+05   1.13e+04    -13.285      0.000   -1.72e+05   -1.28e+05\n",
      "PropertyType[T.Single Family]  1.357e+04   1.39e+04      0.975      0.330   -1.37e+04    4.09e+04\n",
      "PropertyType[T.Townhouse]     -5.884e+04   1.51e+04     -3.888      0.000   -8.85e+04   -2.92e+04\n",
      "SqFtTotLiving                   114.7650      4.863     23.600      0.000     105.233     124.297\n",
      "SqFtTotLiving:ZipGroup[T.1]      32.6043      5.712      5.708      0.000      21.409      43.799\n",
      "SqFtTotLiving:ZipGroup[T.2]      41.7822      5.187      8.056      0.000      31.616      51.948\n",
      "SqFtTotLiving:ZipGroup[T.3]      69.3415      5.619     12.341      0.000      58.329      80.354\n",
      "SqFtTotLiving:ZipGroup[T.4]     226.6836      4.820     47.032      0.000     217.237     236.131\n",
      "SqFtLot                           0.6869      0.052     13.296      0.000       0.586       0.788\n",
      "Bathrooms                     -3619.4533   3202.296     -1.130      0.258   -9896.174    2657.267\n",
      "Bedrooms                       -4.18e+04   2120.279    -19.715      0.000    -4.6e+04   -3.76e+04\n",
      "BldgGrade                      1.047e+05   2069.472     50.592      0.000    1.01e+05    1.09e+05\n",
      "==============================================================================\n",
      "Omnibus:                    30927.394   Durbin-Watson:                   1.581\n",
      "Prob(Omnibus):                  0.000   Jarque-Bera (JB):         34361794.502\n",
      "Skew:                           7.279   Prob(JB):                         0.00\n",
      "Kurtosis:                     193.101   Cond. No.                     5.80e+05\n",
      "==============================================================================\n",
      "\n",
      "Notes:\n",
      "[1] Standard Errors assume that the covariance matrix of the errors is correctly specified.\n",
      "[2] The condition number is large, 5.8e+05. This might indicate that there are\n",
      "strong multicollinearity or other numerical problems.\n"
     ]
    }
   ],
   "source": [
    "model = smf.ols(formula='AdjSalePrice ~  SqFtTotLiving*ZipGroup + SqFtLot + ' +\n",
    "     'Bathrooms + Bedrooms + BldgGrade + PropertyType', data=house)\n",
    "results = model.fit()\n",
    "print(results.summary())"
   ]
  },
  {
   "cell_type": "markdown",
   "metadata": {},
   "source": [
    "> Results differ from R due to different binning. Enforcing the same binning gives identical results"
   ]
  },
  {
   "cell_type": "markdown",
   "metadata": {},
   "source": [
    "# Testing the Assumptions: Regression Diagnostics\n",
    "## Outliers"
   ]
  },
  {
   "cell_type": "markdown",
   "metadata": {},
   "source": [
    "The _statsmodels_ package has the most developed support for outlier analysis. "
   ]
  },
  {
   "cell_type": "code",
   "execution_count": 31,
   "metadata": {
    "execution": {
     "iopub.execute_input": "2021-02-23T15:56:26.949771Z",
     "iopub.status.busy": "2021-02-23T15:56:26.943922Z",
     "iopub.status.idle": "2021-02-23T15:56:26.952555Z",
     "shell.execute_reply": "2021-02-23T15:56:26.953176Z"
    }
   },
   "outputs": [
    {
     "name": "stdout",
     "output_type": "stream",
     "text": [
      "                            OLS Regression Results                            \n",
      "==============================================================================\n",
      "Dep. Variable:           AdjSalePrice   R-squared:                       0.795\n",
      "Model:                            OLS   Adj. R-squared:                  0.792\n",
      "Method:                 Least Squares   F-statistic:                     238.7\n",
      "Date:                Wed, 12 May 2021   Prob (F-statistic):          1.69e-103\n",
      "Time:                        15:19:59   Log-Likelihood:                -4226.0\n",
      "No. Observations:                 313   AIC:                             8464.\n",
      "Df Residuals:                     307   BIC:                             8486.\n",
      "Df Model:                           5                                         \n",
      "Covariance Type:            nonrobust                                         \n",
      "=================================================================================\n",
      "                    coef    std err          t      P>|t|      [0.025      0.975]\n",
      "---------------------------------------------------------------------------------\n",
      "SqFtTotLiving   209.6023     24.408      8.587      0.000     161.574     257.631\n",
      "SqFtLot          38.9333      5.330      7.305      0.000      28.445      49.421\n",
      "Bathrooms      2282.2641      2e+04      0.114      0.909    -3.7e+04    4.16e+04\n",
      "Bedrooms      -2.632e+04   1.29e+04     -2.043      0.042   -5.17e+04    -973.867\n",
      "BldgGrade        1.3e+05   1.52e+04      8.533      0.000       1e+05     1.6e+05\n",
      "const         -7.725e+05   9.83e+04     -7.861      0.000   -9.66e+05   -5.79e+05\n",
      "==============================================================================\n",
      "Omnibus:                       82.127   Durbin-Watson:                   1.508\n",
      "Prob(Omnibus):                  0.000   Jarque-Bera (JB):              586.561\n",
      "Skew:                           0.859   Prob(JB):                    4.26e-128\n",
      "Kurtosis:                       9.483   Cond. No.                     5.63e+04\n",
      "==============================================================================\n",
      "\n",
      "Notes:\n",
      "[1] Standard Errors assume that the covariance matrix of the errors is correctly specified.\n",
      "[2] The condition number is large, 5.63e+04. This might indicate that there are\n",
      "strong multicollinearity or other numerical problems.\n"
     ]
    }
   ],
   "source": [
    "house_98105 = house.loc[house['ZipCode'] == 98105, ]\n",
    "\n",
    "predictors = ['SqFtTotLiving', 'SqFtLot', 'Bathrooms', 'Bedrooms',\n",
    "              'BldgGrade']\n",
    "outcome = 'AdjSalePrice'\n",
    "\n",
    "house_outlier = sm.OLS(house_98105[outcome], house_98105[predictors].assign(const=1))\n",
    "result_98105 = house_outlier.fit()\n",
    "print(result_98105.summary())"
   ]
  },
  {
   "cell_type": "markdown",
   "metadata": {},
   "source": [
    "The `OLSInfluence` class is initialized with the OLS regression results and gives access to a number of usefule properties. Here we use the studentized residuals. "
   ]
  },
  {
   "cell_type": "code",
   "execution_count": 32,
   "metadata": {
    "execution": {
     "iopub.execute_input": "2021-02-23T15:56:26.958979Z",
     "iopub.status.busy": "2021-02-23T15:56:26.958097Z",
     "iopub.status.idle": "2021-02-23T15:56:26.963288Z",
     "shell.execute_reply": "2021-02-23T15:56:26.963803Z"
    }
   },
   "outputs": [
    {
     "name": "stdout",
     "output_type": "stream",
     "text": [
      "24333 -4.32673180407856\n"
     ]
    }
   ],
   "source": [
    "influence = OLSInfluence(result_98105)\n",
    "sresiduals = influence.resid_studentized_internal\n",
    "\n",
    "print(sresiduals.idxmin(), sresiduals.min())"
   ]
  },
  {
   "cell_type": "code",
   "execution_count": 33,
   "metadata": {
    "execution": {
     "iopub.execute_input": "2021-02-23T15:56:26.967792Z",
     "iopub.status.busy": "2021-02-23T15:56:26.967183Z",
     "iopub.status.idle": "2021-02-23T15:56:26.971390Z",
     "shell.execute_reply": "2021-02-23T15:56:26.970994Z"
    }
   },
   "outputs": [
    {
     "name": "stdout",
     "output_type": "stream",
     "text": [
      "-757753.6192115822\n"
     ]
    }
   ],
   "source": [
    "print(result_98105.resid.loc[sresiduals.idxmin()])"
   ]
  },
  {
   "cell_type": "code",
   "execution_count": 34,
   "metadata": {
    "execution": {
     "iopub.execute_input": "2021-02-23T15:56:26.976449Z",
     "iopub.status.busy": "2021-02-23T15:56:26.975944Z",
     "iopub.status.idle": "2021-02-23T15:56:26.980813Z",
     "shell.execute_reply": "2021-02-23T15:56:26.981163Z"
    }
   },
   "outputs": [
    {
     "name": "stdout",
     "output_type": "stream",
     "text": [
      "AdjSalePrice 119748.0\n",
      "SqFtTotLiving    2900\n",
      "SqFtLot          7276\n",
      "Bathrooms         3.0\n",
      "Bedrooms            6\n",
      "BldgGrade           7\n",
      "Name: 24333, dtype: object\n"
     ]
    }
   ],
   "source": [
    "outlier = house_98105.loc[sresiduals.idxmin(), :]\n",
    "print('AdjSalePrice', outlier[outcome])\n",
    "print(outlier[predictors])"
   ]
  },
  {
   "cell_type": "markdown",
   "metadata": {},
   "source": [
    "## Influential values"
   ]
  },
  {
   "cell_type": "code",
   "execution_count": 35,
   "metadata": {
    "execution": {
     "iopub.execute_input": "2021-02-23T15:56:26.990236Z",
     "iopub.status.busy": "2021-02-23T15:56:26.989703Z",
     "iopub.status.idle": "2021-02-23T15:56:27.103197Z",
     "shell.execute_reply": "2021-02-23T15:56:27.102631Z"
    }
   },
   "outputs": [
    {
     "data": {
      "image/png": "[encoded data removed]",
      "text/plain": [
       "<Figure size 288x288 with 1 Axes>"
      ]
     },
     "metadata": {
      "needs_background": "light"
     },
     "output_type": "display_data"
    }
   ],
   "source": [
    "%matplotlib inline\n",
    "from scipy.stats import linregress\n",
    "\n",
    "np.random.seed(5)\n",
    "x = np.random.normal(size=25)\n",
    "y = -x / 5 + np.random.normal(size=25)\n",
    "x[0] = 8\n",
    "y[0] = 8\n",
    "\n",
    "def abline(slope, intercept, ax):\n",
    "    \"\"\"Calculate coordinates of a line based on slope and intercept\"\"\"\n",
    "    x_vals = np.array(ax.get_xlim())\n",
    "    return (x_vals, intercept + slope * x_vals)\n",
    "\n",
    "fig, ax = plt.subplots(figsize=(4, 4))\n",
    "ax.scatter(x, y)\n",
    "slope, intercept, _, _, _ = linregress(x, y)\n",
    "ax.plot(*abline(slope, intercept, ax))\n",
    "slope, intercept, _, _, _ = linregress(x[1:], y[1:])\n",
    "ax.plot(*abline(slope, intercept, ax), '--')\n",
    "ax.set_xlim(-2.5, 8.5)\n",
    "ax.set_ylim(-2.5, 8.5)\n",
    "\n",
    "plt.tight_layout()\n",
    "plt.show()"
   ]
  },
  {
   "cell_type": "markdown",
   "metadata": {},
   "source": [
    "The package _statsmodel_ provides a number of plots to analyze the data point influence"
   ]
  },
  {
   "cell_type": "code",
   "execution_count": 36,
   "metadata": {
    "execution": {
     "iopub.execute_input": "2021-02-23T15:56:27.110432Z",
     "iopub.status.busy": "2021-02-23T15:56:27.109970Z",
     "iopub.status.idle": "2021-02-23T15:56:27.212159Z",
     "shell.execute_reply": "2021-02-23T15:56:27.211825Z"
    }
   },
   "outputs": [
    {
     "data": {
      "image/png": "[encoded data removed]",
      "text/plain": [
       "<Figure size 360x360 with 1 Axes>"
      ]
     },
     "metadata": {
      "needs_background": "light"
     },
     "output_type": "display_data"
    }
   ],
   "source": [
    "influence = OLSInfluence(result_98105)\n",
    "fig, ax = plt.subplots(figsize=(5, 5))\n",
    "ax.axhline(-2.5, linestyle='--', color='C1')\n",
    "ax.axhline(2.5, linestyle='--', color='C1')\n",
    "ax.scatter(influence.hat_matrix_diag, influence.resid_studentized_internal, \n",
    "           s=1000 * np.sqrt(influence.cooks_distance[0]),\n",
    "           alpha=0.5)\n",
    "\n",
    "ax.set_xlabel('hat values')\n",
    "ax.set_ylabel('studentized residuals')\n",
    "\n",
    "plt.tight_layout()\n",
    "plt.show()"
   ]
  },
  {
   "cell_type": "code",
   "execution_count": 37,
   "metadata": {
    "execution": {
     "iopub.execute_input": "2021-02-23T15:56:27.222952Z",
     "iopub.status.busy": "2021-02-23T15:56:27.222361Z",
     "iopub.status.idle": "2021-02-23T15:56:27.226467Z",
     "shell.execute_reply": "2021-02-23T15:56:27.226137Z"
    }
   },
   "outputs": [
    {
     "data": {
      "text/html": [
       "<div>\n",
       "<style scoped>\n",
       "    .dataframe tbody tr th:only-of-type {\n",
       "        vertical-align: middle;\n",
       "    }\n",
       "\n",
       "    .dataframe tbody tr th {\n",
       "        vertical-align: top;\n",
       "    }\n",
       "\n",
       "    .dataframe thead th {\n",
       "        text-align: right;\n",
       "    }\n",
       "</style>\n",
       "<table border=\"1\" class=\"dataframe\">\n",
       "  <thead>\n",
       "    <tr style=\"text-align: right;\">\n",
       "      <th></th>\n",
       "      <th>Original</th>\n",
       "      <th>Influential removed</th>\n",
       "    </tr>\n",
       "  </thead>\n",
       "  <tbody>\n",
       "    <tr>\n",
       "      <th>SqFtTotLiving</th>\n",
       "      <td>209.602346</td>\n",
       "      <td>230.052569</td>\n",
       "    </tr>\n",
       "    <tr>\n",
       "      <th>SqFtLot</th>\n",
       "      <td>38.933315</td>\n",
       "      <td>33.141600</td>\n",
       "    </tr>\n",
       "    <tr>\n",
       "      <th>Bathrooms</th>\n",
       "      <td>2282.264145</td>\n",
       "      <td>-16131.879785</td>\n",
       "    </tr>\n",
       "    <tr>\n",
       "      <th>Bedrooms</th>\n",
       "      <td>-26320.268796</td>\n",
       "      <td>-22887.865318</td>\n",
       "    </tr>\n",
       "    <tr>\n",
       "      <th>BldgGrade</th>\n",
       "      <td>130000.099737</td>\n",
       "      <td>114870.559737</td>\n",
       "    </tr>\n",
       "    <tr>\n",
       "      <th>const</th>\n",
       "      <td>-772549.862447</td>\n",
       "      <td>-647137.096716</td>\n",
       "    </tr>\n",
       "  </tbody>\n",
       "</table>\n",
       "</div>"
      ],
      "text/plain": [
       "                    Original  Influential removed\n",
       "SqFtTotLiving     209.602346           230.052569\n",
       "SqFtLot            38.933315            33.141600\n",
       "Bathrooms        2282.264145        -16131.879785\n",
       "Bedrooms       -26320.268796        -22887.865318\n",
       "BldgGrade      130000.099737        114870.559737\n",
       "const         -772549.862447       -647137.096716"
      ]
     },
     "execution_count": 37,
     "metadata": {},
     "output_type": "execute_result"
    }
   ],
   "source": [
    "mask = [dist < .08 for dist in influence.cooks_distance[0]]\n",
    "house_infl = house_98105.loc[mask]\n",
    "\n",
    "ols_infl = sm.OLS(house_infl[outcome], house_infl[predictors].assign(const=1))\n",
    "result_infl = ols_infl.fit()\n",
    "\n",
    "pd.DataFrame({\n",
    "    'Original': result_98105.params,\n",
    "    'Influential removed': result_infl.params,\n",
    "})"
   ]
  },
  {
   "cell_type": "markdown",
   "metadata": {},
   "source": [
    "## Heteroskedasticity, Non-Normality and Correlated Errors"
   ]
  },
  {
   "cell_type": "markdown",
   "metadata": {},
   "source": [
    "The `regplot` in _seaborn_ allows adding a lowess smoothing line to the scatterplot."
   ]
  },
  {
   "cell_type": "code",
   "execution_count": 38,
   "metadata": {
    "execution": {
     "iopub.execute_input": "2021-02-23T15:56:27.245890Z",
     "iopub.status.busy": "2021-02-23T15:56:27.243835Z",
     "iopub.status.idle": "2021-02-23T15:56:27.404224Z",
     "shell.execute_reply": "2021-02-23T15:56:27.403713Z"
    }
   },
   "outputs": [
    {
     "data": {
      "image/png": "[encoded data removed]",
      "text/plain": [
       "<Figure size 360x360 with 1 Axes>"
      ]
     },
     "metadata": {
      "needs_background": "light"
     },
     "output_type": "display_data"
    }
   ],
   "source": [
    "fig, ax = plt.subplots(figsize=(5, 5))\n",
    "sns.regplot(x=result_98105.fittedvalues, y=np.abs(result_98105.resid), \n",
    "            scatter_kws={'alpha': 0.25},\n",
    "            line_kws={'color': 'C1'},\n",
    "            lowess=True, ax=ax)\n",
    "ax.set_xlabel('predicted')\n",
    "ax.set_ylabel('abs(residual)')\n",
    "\n",
    "plt.tight_layout()\n",
    "plt.show()"
   ]
  },
  {
   "cell_type": "code",
   "execution_count": 39,
   "metadata": {
    "execution": {
     "iopub.execute_input": "2021-02-23T15:56:27.408200Z",
     "iopub.status.busy": "2021-02-23T15:56:27.407745Z",
     "iopub.status.idle": "2021-02-23T15:56:27.527820Z",
     "shell.execute_reply": "2021-02-23T15:56:27.527050Z"
    }
   },
   "outputs": [
    {
     "data": {
      "image/png": "[encoded data removed]",
      "text/plain": [
       "<Figure size 288x288 with 1 Axes>"
      ]
     },
     "metadata": {
      "needs_background": "light"
     },
     "output_type": "display_data"
    }
   ],
   "source": [
    "fig, ax = plt.subplots(figsize=(4, 4))\n",
    "pd.Series(influence.resid_studentized_internal).hist(ax=ax)\n",
    "ax.set_xlabel('std. residual')\n",
    "ax.set_ylabel('Frequency')\n",
    "\n",
    "\n",
    "plt.tight_layout()\n",
    "plt.show()"
   ]
  },
  {
   "cell_type": "markdown",
   "metadata": {},
   "source": [
    "## Partial Residual Plots and Nonlinearity"
   ]
  },
  {
   "cell_type": "code",
   "execution_count": 40,
   "metadata": {
    "execution": {
     "iopub.execute_input": "2021-02-23T15:56:27.590455Z",
     "iopub.status.busy": "2021-02-23T15:56:27.532234Z",
     "iopub.status.idle": "2021-02-23T15:56:27.690812Z",
     "shell.execute_reply": "2021-02-23T15:56:27.690361Z"
    }
   },
   "outputs": [
    {
     "data": {
      "image/png": "[encoded data removed]",
      "text/plain": [
       "<Figure size 360x360 with 1 Axes>"
      ]
     },
     "metadata": {
      "needs_background": "light"
     },
     "output_type": "display_data"
    }
   ],
   "source": [
    "fig, ax = plt.subplots(figsize=(5, 5))\n",
    "fig = sm.graphics.plot_ccpr(result_98105, 'SqFtTotLiving', ax=ax)\n",
    "\n",
    "plt.tight_layout()\n",
    "plt.show()"
   ]
  },
  {
   "cell_type": "code",
   "execution_count": 41,
   "metadata": {
    "execution": {
     "iopub.execute_input": "2021-02-23T15:56:27.704919Z",
     "iopub.status.busy": "2021-02-23T15:56:27.704440Z",
     "iopub.status.idle": "2021-02-23T15:56:28.197463Z",
     "shell.execute_reply": "2021-02-23T15:56:28.196888Z"
    }
   },
   "outputs": [
    {
     "data": {
      "image/png": "[encoded data removed]",
      "text/plain": [
       "<Figure size 576x864 with 5 Axes>"
      ]
     },
     "metadata": {
      "needs_background": "light"
     },
     "output_type": "display_data"
    }
   ],
   "source": [
    "fig = plt.figure(figsize=(8, 12))\n",
    "fig = sm.graphics.plot_ccpr_grid(result_98105, fig=fig)"
   ]
  },
  {
   "cell_type": "markdown",
   "metadata": {},
   "source": [
    "## Polynomial and Spline Regression"
   ]
  },
  {
   "cell_type": "code",
   "execution_count": 42,
   "metadata": {
    "execution": {
     "iopub.execute_input": "2021-02-23T15:56:28.211182Z",
     "iopub.status.busy": "2021-02-23T15:56:28.210179Z",
     "iopub.status.idle": "2021-02-23T15:56:28.221277Z",
     "shell.execute_reply": "2021-02-23T15:56:28.220726Z"
    }
   },
   "outputs": [
    {
     "name": "stdout",
     "output_type": "stream",
     "text": [
      "                            OLS Regression Results                            \n",
      "==============================================================================\n",
      "Dep. Variable:           AdjSalePrice   R-squared:                       0.806\n",
      "Model:                            OLS   Adj. R-squared:                  0.802\n",
      "Method:                 Least Squares   F-statistic:                     211.6\n",
      "Date:                Wed, 12 May 2021   Prob (F-statistic):          9.95e-106\n",
      "Time:                        15:20:01   Log-Likelihood:                -4217.9\n",
      "No. Observations:                 313   AIC:                             8450.\n",
      "Df Residuals:                     306   BIC:                             8476.\n",
      "Df Model:                           6                                         \n",
      "Covariance Type:            nonrobust                                         \n",
      "==============================================================================================\n",
      "                                 coef    std err          t      P>|t|      [0.025      0.975]\n",
      "----------------------------------------------------------------------------------------------\n",
      "Intercept                  -6.159e+05   1.03e+05     -5.953      0.000   -8.19e+05   -4.12e+05\n",
      "SqFtTotLiving                  7.4521     55.418      0.134      0.893    -101.597     116.501\n",
      "np.power(SqFtTotLiving, 2)     0.0388      0.010      4.040      0.000       0.020       0.058\n",
      "SqFtLot                       32.5594      5.436      5.990      0.000      21.863      43.256\n",
      "Bathrooms                  -1435.1231   1.95e+04     -0.074      0.941   -3.99e+04     3.7e+04\n",
      "Bedrooms                   -9191.9441   1.33e+04     -0.693      0.489   -3.53e+04    1.69e+04\n",
      "BldgGrade                   1.357e+05   1.49e+04      9.087      0.000    1.06e+05    1.65e+05\n",
      "==============================================================================\n",
      "Omnibus:                       75.161   Durbin-Watson:                   1.625\n",
      "Prob(Omnibus):                  0.000   Jarque-Bera (JB):              637.978\n",
      "Skew:                           0.699   Prob(JB):                    2.92e-139\n",
      "Kurtosis:                       9.853   Cond. No.                     7.37e+07\n",
      "==============================================================================\n",
      "\n",
      "Notes:\n",
      "[1] Standard Errors assume that the covariance matrix of the errors is correctly specified.\n",
      "[2] The condition number is large, 7.37e+07. This might indicate that there are\n",
      "strong multicollinearity or other numerical problems.\n"
     ]
    }
   ],
   "source": [
    "model_poly = smf.ols(formula='AdjSalePrice ~  SqFtTotLiving + np.power(SqFtTotLiving, 2) + ' + \n",
    "                'SqFtLot + Bathrooms + Bedrooms + BldgGrade', data=house_98105)\n",
    "result_poly = model_poly.fit()\n",
    "print(result_poly.summary())"
   ]
  },
  {
   "cell_type": "markdown",
   "metadata": {},
   "source": [
    "The statsmodels implementation of a partial residual plot works only for linear term. Here is an implementation of a partial residual plot that, while inefficient, works for the polynomial regression."
   ]
  },
  {
   "cell_type": "code",
   "execution_count": 43,
   "metadata": {
    "execution": {
     "iopub.execute_input": "2021-02-23T15:56:28.235963Z",
     "iopub.status.busy": "2021-02-23T15:56:28.235471Z",
     "iopub.status.idle": "2021-02-23T15:56:28.396107Z",
     "shell.execute_reply": "2021-02-23T15:56:28.396468Z"
    },
    "scrolled": false
   },
   "outputs": [
    {
     "data": {
      "image/png": "[encoded data removed]",
      "text/plain": [
       "<Figure size 360x360 with 1 Axes>"
      ]
     },
     "metadata": {
      "needs_background": "light"
     },
     "output_type": "display_data"
    },
    {
     "name": "stdout",
     "output_type": "stream",
     "text": [
      "0.03879128168231144\n"
     ]
    }
   ],
   "source": [
    "def partialResidualPlot(model, df, outcome, feature, ax):\n",
    "    y_pred = model.predict(df)\n",
    "    copy_df = df.copy()\n",
    "    for c in copy_df.columns:\n",
    "        if c == feature:\n",
    "            continue\n",
    "        copy_df[c] = 0.0\n",
    "    feature_prediction = model.predict(copy_df)\n",
    "    results = pd.DataFrame({\n",
    "        'feature': df[feature],\n",
    "        'residual': df[outcome] - y_pred,\n",
    "        'ypartial': feature_prediction - model.params[0],\n",
    "    })\n",
    "    results = results.sort_values(by=['feature'])\n",
    "    smoothed = sm.nonparametric.lowess(results.ypartial, results.feature, frac=1/3)\n",
    "    \n",
    "    ax.scatter(results.feature, results.ypartial + results.residual)\n",
    "    ax.plot(smoothed[:, 0], smoothed[:, 1], color='gray')\n",
    "    ax.plot(results.feature, results.ypartial, color='black')\n",
    "    ax.set_xlabel(feature)\n",
    "    ax.set_ylabel(f'Residual + {feature} contribution')\n",
    "    return ax\n",
    "\n",
    "fig, ax = plt.subplots(figsize=(5, 5))\n",
    "partialResidualPlot(result_poly, house_98105, 'AdjSalePrice', 'SqFtTotLiving', ax)\n",
    "\n",
    "plt.tight_layout()\n",
    "plt.show()\n",
    "print(result_poly.params[2])"
   ]
  },
  {
   "cell_type": "markdown",
   "metadata": {},
   "source": [
    "## Splines"
   ]
  },
  {
   "cell_type": "code",
   "execution_count": 44,
   "metadata": {
    "execution": {
     "iopub.execute_input": "2021-02-23T15:56:28.407649Z",
     "iopub.status.busy": "2021-02-23T15:56:28.406803Z",
     "iopub.status.idle": "2021-02-23T15:56:28.428989Z",
     "shell.execute_reply": "2021-02-23T15:56:28.429432Z"
    }
   },
   "outputs": [
    {
     "name": "stdout",
     "output_type": "stream",
     "text": [
      "                            OLS Regression Results                            \n",
      "==============================================================================\n",
      "Dep. Variable:           AdjSalePrice   R-squared:                       0.814\n",
      "Model:                            OLS   Adj. R-squared:                  0.807\n",
      "Method:                 Least Squares   F-statistic:                     131.8\n",
      "Date:                Wed, 12 May 2021   Prob (F-statistic):          7.10e-104\n",
      "Time:                        15:20:01   Log-Likelihood:                -4211.4\n",
      "No. Observations:                 313   AIC:                             8445.\n",
      "Df Residuals:                     302   BIC:                             8486.\n",
      "Df Model:                          10                                         \n",
      "Covariance Type:            nonrobust                                         \n",
      "========================================================================================================\n",
      "                                           coef    std err          t      P>|t|      [0.025      0.975]\n",
      "--------------------------------------------------------------------------------------------------------\n",
      "Intercept                            -4.142e+05   1.43e+05     -2.899      0.004   -6.95e+05   -1.33e+05\n",
      "bs(SqFtTotLiving, df=6, degree=3)[0] -1.995e+05   1.86e+05     -1.076      0.283   -5.65e+05    1.66e+05\n",
      "bs(SqFtTotLiving, df=6, degree=3)[1] -1.206e+05   1.23e+05     -0.983      0.326   -3.62e+05    1.21e+05\n",
      "bs(SqFtTotLiving, df=6, degree=3)[2] -7.164e+04   1.36e+05     -0.525      0.600    -3.4e+05    1.97e+05\n",
      "bs(SqFtTotLiving, df=6, degree=3)[3]  1.957e+05   1.62e+05      1.212      0.227   -1.22e+05    5.14e+05\n",
      "bs(SqFtTotLiving, df=6, degree=3)[4]  8.452e+05   2.18e+05      3.878      0.000    4.16e+05    1.27e+06\n",
      "bs(SqFtTotLiving, df=6, degree=3)[5]  6.955e+05   2.14e+05      3.255      0.001    2.75e+05    1.12e+06\n",
      "SqFtLot                                 33.3258      5.454      6.110      0.000      22.592      44.059\n",
      "Bathrooms                            -4778.2080   1.94e+04     -0.246      0.806    -4.3e+04    3.34e+04\n",
      "Bedrooms                             -5778.7045   1.32e+04     -0.437      0.663   -3.18e+04    2.03e+04\n",
      "BldgGrade                             1.345e+05   1.52e+04      8.842      0.000    1.05e+05    1.64e+05\n",
      "==============================================================================\n",
      "Omnibus:                       58.816   Durbin-Watson:                   1.633\n",
      "Prob(Omnibus):                  0.000   Jarque-Bera (JB):              622.021\n",
      "Skew:                           0.330   Prob(JB):                    8.51e-136\n",
      "Kurtosis:                       9.874   Cond. No.                     1.97e+05\n",
      "==============================================================================\n",
      "\n",
      "Notes:\n",
      "[1] Standard Errors assume that the covariance matrix of the errors is correctly specified.\n",
      "[2] The condition number is large, 1.97e+05. This might indicate that there are\n",
      "strong multicollinearity or other numerical problems.\n"
     ]
    }
   ],
   "source": [
    "formula = ('AdjSalePrice ~ bs(SqFtTotLiving, df=6, degree=3) + ' + \n",
    "           'SqFtLot + Bathrooms + Bedrooms + BldgGrade')\n",
    "model_spline = smf.ols(formula=formula, data=house_98105)\n",
    "result_spline = model_spline.fit()\n",
    "print(result_spline.summary())"
   ]
  },
  {
   "cell_type": "code",
   "execution_count": 45,
   "metadata": {
    "execution": {
     "iopub.execute_input": "2021-02-23T15:56:28.445814Z",
     "iopub.status.busy": "2021-02-23T15:56:28.445227Z",
     "iopub.status.idle": "2021-02-23T15:56:28.611508Z",
     "shell.execute_reply": "2021-02-23T15:56:28.610935Z"
    }
   },
   "outputs": [
    {
     "data": {
      "image/png": "[encoded data removed]",
      "text/plain": [
       "<Figure size 360x360 with 1 Axes>"
      ]
     },
     "metadata": {
      "needs_background": "light"
     },
     "output_type": "display_data"
    }
   ],
   "source": [
    "fig, ax = plt.subplots(figsize=(5, 5))\n",
    "partialResidualPlot(result_spline, house_98105, 'AdjSalePrice', 'SqFtTotLiving', ax)\n",
    "\n",
    "plt.tight_layout()\n",
    "plt.show()"
   ]
  },
  {
   "cell_type": "markdown",
   "metadata": {},
   "source": [
    "## Generalized Additive Models"
   ]
  },
  {
   "cell_type": "code",
   "execution_count": 46,
   "metadata": {
    "execution": {
     "iopub.execute_input": "2021-02-23T15:56:28.621500Z",
     "iopub.status.busy": "2021-02-23T15:56:28.620964Z",
     "iopub.status.idle": "2021-02-23T15:56:28.783393Z",
     "shell.execute_reply": "2021-02-23T15:56:28.783932Z"
    }
   },
   "outputs": [
    {
     "name": "stderr",
     "output_type": "stream",
     "text": [
      "100% (11 of 11) |########################| Elapsed Time: 0:00:00 Time:  0:00:00\n"
     ]
    },
    {
     "name": "stdout",
     "output_type": "stream",
     "text": [
      "LinearGAM                                                                                                 \n",
      "=============================================== ==========================================================\n",
      "Distribution:                        NormalDist Effective DoF:                                      7.6772\n",
      "Link Function:                     IdentityLink Log Likelihood:                                 -7833.1159\n",
      "Number of Samples:                          313 AIC:                                            15683.5863\n",
      "                                                AICc:                                             15684.14\n",
      "                                                GCV:                                      30838885095.1676\n",
      "                                                Scale:                                    29480381715.8292\n",
      "                                                Pseudo R-Squared:                                   0.8117\n",
      "==========================================================================================================\n",
      "Feature Function                  Lambda               Rank         EDoF         P > x        Sig. Code   \n",
      "================================= ==================== ============ ============ ============ ============\n",
      "s(0)                              [15.8489]            12           4.3          1.11e-16     ***         \n",
      "l(1)                              [15.8489]            1            0.9          2.35e-10     ***         \n",
      "l(2)                              [15.8489]            1            0.8          8.45e-01                 \n",
      "l(3)                              [15.8489]            1            0.9          3.79e-01                 \n",
      "l(4)                              [15.8489]            1            0.8          1.11e-16     ***         \n",
      "intercept                                              1            0.0          9.14e-01                 \n",
      "==========================================================================================================\n",
      "Significance codes:  0 '***' 0.001 '**' 0.01 '*' 0.05 '.' 0.1 ' ' 1\n",
      "\n",
      "WARNING: Fitting splines and a linear function to a feature introduces a model identifiability problem\n",
      "         which can cause p-values to appear significant when they are not.\n",
      "\n",
      "WARNING: p-values calculated in this manner behave correctly for un-penalized models or models with\n",
      "         known smoothing parameters, but when smoothing parameters have been estimated, the p-values\n",
      "         are typically lower than they should be, meaning that the tests reject the null too readily.\n",
      "None\n"
     ]
    },
    {
     "name": "stderr",
     "output_type": "stream",
     "text": [
      "<ipython-input-46-2454e06428fa>:10: UserWarning: KNOWN BUG: p-values computed in this summary are likely much smaller than they should be. \n",
      " \n",
      "Please do not make inferences based on these values! \n",
      "\n",
      "Collaborate on a solution, and stay up to date at: \n",
      "github.com/dswah/pyGAM/issues/163 \n",
      "\n",
      "  print(gam.summary())\n"
     ]
    }
   ],
   "source": [
    "predictors = ['SqFtTotLiving', 'SqFtLot', 'Bathrooms', \n",
    "              'Bedrooms', 'BldgGrade']\n",
    "outcome = 'AdjSalePrice'\n",
    "X = house_98105[predictors].values\n",
    "y = house_98105[outcome]\n",
    "\n",
    "## model\n",
    "gam = LinearGAM(s(0, n_splines=12) + l(1) + l(2) + l(3) + l(4))\n",
    "gam.gridsearch(X, y)\n",
    "print(gam.summary())"
   ]
  },
  {
   "cell_type": "code",
   "execution_count": 47,
   "metadata": {
    "execution": {
     "iopub.execute_input": "2021-02-23T15:56:28.801985Z",
     "iopub.status.busy": "2021-02-23T15:56:28.801360Z",
     "iopub.status.idle": "2021-02-23T15:56:29.242609Z",
     "shell.execute_reply": "2021-02-23T15:56:29.241958Z"
    }
   },
   "outputs": [
    {
     "data": {
      "image/png": "[encoded data removed]",
      "text/plain": [
       "<Figure size 576x576 with 6 Axes>"
      ]
     },
     "metadata": {
      "needs_background": "light"
     },
     "output_type": "display_data"
    }
   ],
   "source": [
    "fig, axes = plt.subplots(figsize=(8, 8), ncols=2, nrows=3)\n",
    "\n",
    "titles = ['SqFtTotLiving', 'SqFtLot', 'Bathrooms', 'Bedrooms', 'BldgGrade']\n",
    "for i, title in enumerate(titles):\n",
    "    ax = axes[i // 2, i % 2]\n",
    "    XX = gam.generate_X_grid(term=i)\n",
    "    ax.plot(XX[:, i], gam.partial_dependence(term=i, X=XX))\n",
    "    ax.plot(XX[:, i], gam.partial_dependence(term=i, X=XX, width=.95)[1], c='r', ls='--')\n",
    "    ax.set_title(titles[i]);\n",
    "    \n",
    "axes[2][1].set_visible(False)\n",
    "\n",
    "plt.tight_layout()\n",
    "plt.show()"
   ]
  },
  {
   "cell_type": "markdown",
   "metadata": {},
   "source": [
    "# Additional material - not in book\n",
    "# Regularization\n",
    "## Lasso"
   ]
  },
  {
   "cell_type": "code",
   "execution_count": 48,
   "metadata": {
    "execution": {
     "iopub.execute_input": "2021-02-23T15:56:29.245755Z",
     "iopub.status.busy": "2021-02-23T15:56:29.245211Z",
     "iopub.status.idle": "2021-02-23T15:56:29.248309Z",
     "shell.execute_reply": "2021-02-23T15:56:29.247811Z"
    }
   },
   "outputs": [],
   "source": [
    "from sklearn.linear_model import Lasso, LassoLars, LassoCV, LassoLarsCV\n",
    "from sklearn.preprocessing import StandardScaler"
   ]
  },
  {
   "cell_type": "code",
   "execution_count": 49,
   "metadata": {
    "execution": {
     "iopub.execute_input": "2021-02-23T15:56:29.252866Z",
     "iopub.status.busy": "2021-02-23T15:56:29.252246Z",
     "iopub.status.idle": "2021-02-23T15:56:29.293637Z",
     "shell.execute_reply": "2021-02-23T15:56:29.293248Z"
    }
   },
   "outputs": [
    {
     "name": "stdout",
     "output_type": "stream",
     "text": [
      "   AdjSalePrice  SqFtTotLiving  SqFtLot  Bathrooms  Bedrooms  BldgGrade\n",
      "1      300805.0           2400     9373       3.00         6          7\n",
      "2     1076162.0           3764    20156       3.75         4         10\n",
      "3      761805.0           2060    26036       1.75         4          8\n",
      "4      442065.0           3200     8618       3.75         5          7\n",
      "5      297065.0           1720     8620       1.75         4          7\n"
     ]
    }
   ],
   "source": [
    "subset = ['AdjSalePrice', 'SqFtTotLiving', 'SqFtLot', 'Bathrooms', \n",
    "          'Bedrooms', 'BldgGrade']\n",
    "\n",
    "house = pd.read_csv(HOUSE_CSV, sep='\\t')\n",
    "print(house[subset].head())"
   ]
  },
  {
   "cell_type": "code",
   "execution_count": 50,
   "metadata": {
    "execution": {
     "iopub.execute_input": "2021-02-23T15:56:29.299761Z",
     "iopub.status.busy": "2021-02-23T15:56:29.299227Z",
     "iopub.status.idle": "2021-02-23T15:56:29.319612Z",
     "shell.execute_reply": "2021-02-23T15:56:29.319104Z"
    }
   },
   "outputs": [
    {
     "name": "stdout",
     "output_type": "stream",
     "text": [
      "LinearRegression()\n"
     ]
    }
   ],
   "source": [
    "predictors = ['SqFtTotLiving', 'SqFtLot', 'Bathrooms', 'Bedrooms',\n",
    "              'BldgGrade', 'PropertyType', 'NbrLivingUnits',\n",
    "              'SqFtFinBasement', 'YrBuilt', 'YrRenovated', \n",
    "              'NewConstruction']\n",
    "outcome = 'AdjSalePrice'\n",
    "\n",
    "X = pd.get_dummies(house[predictors], drop_first=True)\n",
    "X['NewConstruction'] = [1 if nc else 0 for nc in X['NewConstruction']]\n",
    "columns = X.columns\n",
    "# X = StandardScaler().fit_transform(X * 1.0)\n",
    "y = house[outcome]\n",
    "\n",
    "house_lm = LinearRegression()\n",
    "print(house_lm.fit(X, y))"
   ]
  },
  {
   "cell_type": "code",
   "execution_count": 51,
   "metadata": {
    "execution": {
     "iopub.execute_input": "2021-02-23T15:56:29.323849Z",
     "iopub.status.busy": "2021-02-23T15:56:29.323397Z",
     "iopub.status.idle": "2021-02-23T15:56:29.374657Z",
     "shell.execute_reply": "2021-02-23T15:56:29.373327Z"
    }
   },
   "outputs": [
    {
     "name": "stdout",
     "output_type": "stream",
     "text": [
      "Lasso(alpha=10)\n"
     ]
    }
   ],
   "source": [
    "house_lasso = Lasso(alpha=10)\n",
    "print(house_lasso.fit(X, y))"
   ]
  },
  {
   "cell_type": "code",
   "execution_count": 52,
   "metadata": {
    "execution": {
     "iopub.execute_input": "2021-02-23T15:56:29.383613Z",
     "iopub.status.busy": "2021-02-23T15:56:29.382782Z",
     "iopub.status.idle": "2021-02-23T15:56:30.038177Z",
     "shell.execute_reply": "2021-02-23T15:56:30.038557Z"
    }
   },
   "outputs": [
    {
     "data": {
      "image/png": "[encoded data removed]",
      "text/plain": [
       "<Figure size 432x288 with 1 Axes>"
      ]
     },
     "metadata": {
      "needs_background": "light"
     },
     "output_type": "display_data"
    }
   ],
   "source": [
    "Method = LassoLars\n",
    "MethodCV = LassoLarsCV\n",
    "Method = Lasso\n",
    "MethodCV = LassoCV\n",
    "\n",
    "alpha_values = []\n",
    "results = []\n",
    "for alpha in [0.001, 0.01, 0.1, 1, 10, 100, 1000, 10000, 100000, 1000000, 10000000]:\n",
    "    model = Method(alpha=alpha)\n",
    "    model.fit(X, y)\n",
    "    alpha_values.append(alpha)\n",
    "    results.append(model.coef_)\n",
    "modelCV = MethodCV(cv=5)\n",
    "modelCV.fit(X, y)\n",
    "ax = pd.DataFrame(results, index=alpha_values, columns=columns).plot(logx=True, legend=False)\n",
    "ax.axvline(modelCV.alpha_)\n",
    "plt.show()"
   ]
  },
  {
   "cell_type": "code",
   "execution_count": 53,
   "metadata": {
    "execution": {
     "iopub.execute_input": "2021-02-23T15:56:30.046882Z",
     "iopub.status.busy": "2021-02-23T15:56:30.046305Z",
     "iopub.status.idle": "2021-02-23T15:56:30.049376Z",
     "shell.execute_reply": "2021-02-23T15:56:30.049771Z"
    }
   },
   "outputs": [
    {
     "data": {
      "text/html": [
       "<div>\n",
       "<style scoped>\n",
       "    .dataframe tbody tr th:only-of-type {\n",
       "        vertical-align: middle;\n",
       "    }\n",
       "\n",
       "    .dataframe tbody tr th {\n",
       "        vertical-align: top;\n",
       "    }\n",
       "\n",
       "    .dataframe thead th {\n",
       "        text-align: right;\n",
       "    }\n",
       "</style>\n",
       "<table border=\"1\" class=\"dataframe\">\n",
       "  <thead>\n",
       "    <tr style=\"text-align: right;\">\n",
       "      <th></th>\n",
       "      <th>name</th>\n",
       "      <th>coef</th>\n",
       "    </tr>\n",
       "  </thead>\n",
       "  <tbody>\n",
       "    <tr>\n",
       "      <th>0</th>\n",
       "      <td>SqFtTotLiving</td>\n",
       "      <td>289.048846</td>\n",
       "    </tr>\n",
       "    <tr>\n",
       "      <th>1</th>\n",
       "      <td>SqFtLot</td>\n",
       "      <td>0.029471</td>\n",
       "    </tr>\n",
       "    <tr>\n",
       "      <th>2</th>\n",
       "      <td>Bathrooms</td>\n",
       "      <td>0.000000</td>\n",
       "    </tr>\n",
       "    <tr>\n",
       "      <th>3</th>\n",
       "      <td>Bedrooms</td>\n",
       "      <td>-0.000000</td>\n",
       "    </tr>\n",
       "    <tr>\n",
       "      <th>4</th>\n",
       "      <td>BldgGrade</td>\n",
       "      <td>0.000000</td>\n",
       "    </tr>\n",
       "    <tr>\n",
       "      <th>5</th>\n",
       "      <td>NbrLivingUnits</td>\n",
       "      <td>-0.000000</td>\n",
       "    </tr>\n",
       "    <tr>\n",
       "      <th>6</th>\n",
       "      <td>SqFtFinBasement</td>\n",
       "      <td>3.316479</td>\n",
       "    </tr>\n",
       "    <tr>\n",
       "      <th>7</th>\n",
       "      <td>YrBuilt</td>\n",
       "      <td>-0.000000</td>\n",
       "    </tr>\n",
       "    <tr>\n",
       "      <th>8</th>\n",
       "      <td>YrRenovated</td>\n",
       "      <td>45.727472</td>\n",
       "    </tr>\n",
       "    <tr>\n",
       "      <th>9</th>\n",
       "      <td>NewConstruction</td>\n",
       "      <td>-0.000000</td>\n",
       "    </tr>\n",
       "    <tr>\n",
       "      <th>10</th>\n",
       "      <td>PropertyType_Single Family</td>\n",
       "      <td>-0.000000</td>\n",
       "    </tr>\n",
       "    <tr>\n",
       "      <th>11</th>\n",
       "      <td>PropertyType_Townhouse</td>\n",
       "      <td>0.000000</td>\n",
       "    </tr>\n",
       "  </tbody>\n",
       "</table>\n",
       "</div>"
      ],
      "text/plain": [
       "                          name        coef\n",
       "0                SqFtTotLiving  289.048846\n",
       "1                      SqFtLot    0.029471\n",
       "2                    Bathrooms    0.000000\n",
       "3                     Bedrooms   -0.000000\n",
       "4                    BldgGrade    0.000000\n",
       "5               NbrLivingUnits   -0.000000\n",
       "6              SqFtFinBasement    3.316479\n",
       "7                      YrBuilt   -0.000000\n",
       "8                  YrRenovated   45.727472\n",
       "9              NewConstruction   -0.000000\n",
       "10  PropertyType_Single Family   -0.000000\n",
       "11      PropertyType_Townhouse    0.000000"
      ]
     },
     "execution_count": 53,
     "metadata": {},
     "output_type": "execute_result"
    }
   ],
   "source": [
    "pd.DataFrame({\n",
    "    'name': columns,\n",
    "    'coef': modelCV.coef_, \n",
    "})"
   ]
  },
  {
   "cell_type": "code",
   "execution_count": 54,
   "metadata": {
    "execution": {
     "iopub.execute_input": "2021-02-23T15:56:30.053603Z",
     "iopub.status.busy": "2021-02-23T15:56:30.053056Z",
     "iopub.status.idle": "2021-02-23T15:56:30.055694Z",
     "shell.execute_reply": "2021-02-23T15:56:30.055279Z"
    }
   },
   "outputs": [],
   "source": [
    "# Intercept: 6177658.144\n",
    "# Coefficients:\n",
    "#  SqFtTotLiving: 199.27474217544048\n",
    "#  BldgGrade: 137181.13724627026\n",
    "#  YrBuilt: -3564.934870415041\n",
    "#  Bedrooms: -51974.76845567939\n",
    "#  Bathrooms: 42403.059999677665\n",
    "#  PropertyType_Townhouse: 84378.9333363999\n",
    "#  SqFtFinBasement: 7.032178917565108\n",
    "#  PropertyType_Single Family: 22854.87954019308"
   ]
  }
 ],
 "metadata": {
  "kernelspec": {
   "display_name": "Python 3",
   "language": "python",
   "name": "python3"
  },
  "language_info": {
   "codemirror_mode": {
    "name": "ipython",
    "version": 3
   },
   "file_extension": ".py",
   "mimetype": "text/x-python",
   "name": "python",
   "nbconvert_exporter": "python",
   "pygments_lexer": "ipython3",
   "version": "3.9.2"
  }
 },
 "nbformat": 4,
 "nbformat_minor": 2
}
