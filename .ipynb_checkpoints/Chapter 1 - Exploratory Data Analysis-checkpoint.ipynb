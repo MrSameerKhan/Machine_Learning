{
 "cells": [
  {
   "cell_type": "markdown",
   "metadata": {},
   "source": [
    "# Practical Statistics for Data Scientists (Python)\n",
    "# Chapter 1. Exploratory Data Analysis\n",
    "> (c) 2019 Peter C. Bruce, Andrew Bruce, Peter Gedeck"
   ]
  },
  {
   "cell_type": "markdown",
   "metadata": {},
   "source": [
    "Import required Python packages."
   ]
  },
  {
   "cell_type": "code",
   "execution_count": 4,
   "metadata": {
    "execution": {
     "iopub.execute_input": "2021-02-23T16:10:40.469184Z",
     "iopub.status.busy": "2021-02-23T16:10:40.468421Z",
     "iopub.status.idle": "2021-02-23T16:10:41.230660Z",
     "shell.execute_reply": "2021-02-23T16:10:41.230115Z"
    }
   },
   "outputs": [
    {
     "name": "stdout",
     "output_type": "stream",
     "text": [
      "Requirement already satisfied: statsmodels in /home/sam/AIML/lib/python3.8/site-packages (0.12.2)\n",
      "Requirement already satisfied: scipy>=1.1 in /home/sam/AIML/lib/python3.8/site-packages (from statsmodels) (1.6.3)\n",
      "Requirement already satisfied: numpy>=1.15 in /home/sam/AIML/lib/python3.8/site-packages (from statsmodels) (1.20.2)\n",
      "Requirement already satisfied: pandas>=0.21 in /home/sam/AIML/lib/python3.8/site-packages (from statsmodels) (1.2.4)\n",
      "Requirement already satisfied: patsy>=0.5 in /home/sam/AIML/lib/python3.8/site-packages (from statsmodels) (0.5.1)\n",
      "Requirement already satisfied: python-dateutil>=2.7.3 in /home/sam/AIML/lib/python3.8/site-packages (from pandas>=0.21->statsmodels) (2.8.1)\n",
      "Requirement already satisfied: pytz>=2017.3 in /home/sam/AIML/lib/python3.8/site-packages (from pandas>=0.21->statsmodels) (2021.1)\n",
      "Requirement already satisfied: six in /home/sam/AIML/lib/python3.8/site-packages (from patsy>=0.5->statsmodels) (1.15.0)\n"
     ]
    },
    {
     "ename": "ModuleNotFoundError",
     "evalue": "No module named 'statsmodels'",
     "output_type": "error",
     "traceback": [
      "\u001b[0;31m---------------------------------------------------------------------------\u001b[0m",
      "\u001b[0;31mModuleNotFoundError\u001b[0m                       Traceback (most recent call last)",
      "\u001b[0;32m<ipython-input-4-9e6eea331d4f>\u001b[0m in \u001b[0;36m<module>\u001b[0;34m\u001b[0m\n\u001b[1;32m      7\u001b[0m \u001b[0;32mimport\u001b[0m \u001b[0mnumpy\u001b[0m \u001b[0;32mas\u001b[0m \u001b[0mnp\u001b[0m\u001b[0;34m\u001b[0m\u001b[0;34m\u001b[0m\u001b[0m\n\u001b[1;32m      8\u001b[0m \u001b[0;32mfrom\u001b[0m \u001b[0mscipy\u001b[0m\u001b[0;34m.\u001b[0m\u001b[0mstats\u001b[0m \u001b[0;32mimport\u001b[0m \u001b[0mtrim_mean\u001b[0m\u001b[0;34m\u001b[0m\u001b[0;34m\u001b[0m\u001b[0m\n\u001b[0;32m----> 9\u001b[0;31m \u001b[0;32mfrom\u001b[0m \u001b[0mstatsmodels\u001b[0m \u001b[0;32mimport\u001b[0m \u001b[0mrobust\u001b[0m\u001b[0;34m\u001b[0m\u001b[0;34m\u001b[0m\u001b[0m\n\u001b[0m\u001b[1;32m     10\u001b[0m \u001b[0;32mimport\u001b[0m \u001b[0mwquantiles\u001b[0m\u001b[0;34m\u001b[0m\u001b[0;34m\u001b[0m\u001b[0m\n\u001b[1;32m     11\u001b[0m \u001b[0;34m\u001b[0m\u001b[0m\n",
      "\u001b[0;31mModuleNotFoundError\u001b[0m: No module named 'statsmodels'"
     ]
    }
   ],
   "source": [
    "# %matplotlib inline\n",
    "!pip install statsmodels\n",
    "\n",
    "from pathlib import Path\n",
    "\n",
    "import pandas as pd\n",
    "import numpy as np\n",
    "from scipy.stats import trim_mean\n",
    "from statsmodels import robust\n",
    "import wquantiles\n",
    "\n",
    "import seaborn as sns\n",
    "import matplotlib.pylab as plt"
   ]
  },
  {
   "cell_type": "code",
   "execution_count": null,
   "metadata": {
    "execution": {
     "iopub.execute_input": "2021-02-23T16:10:41.235522Z",
     "iopub.status.busy": "2021-02-23T16:10:41.234296Z",
     "iopub.status.idle": "2021-02-23T16:10:41.526756Z",
     "shell.execute_reply": "2021-02-23T16:10:41.526179Z"
    }
   },
   "outputs": [],
   "source": [
    "try:\n",
    "    import common\n",
    "    DATA = common.dataDirectory()\n",
    "except ImportError:\n",
    "    DATA = Path().resolve() / 'data'"
   ]
  },
  {
   "cell_type": "markdown",
   "metadata": {},
   "source": [
    "Define paths to data sets. If you don't keep your data in the same directory as the code, adapt the path names."
   ]
  },
  {
   "cell_type": "code",
   "execution_count": null,
   "metadata": {
    "execution": {
     "iopub.execute_input": "2021-02-23T16:10:41.530425Z",
     "iopub.status.busy": "2021-02-23T16:10:41.529936Z",
     "iopub.status.idle": "2021-02-23T16:10:41.533202Z",
     "shell.execute_reply": "2021-02-23T16:10:41.532713Z"
    }
   },
   "outputs": [],
   "source": [
    "AIRLINE_STATS_CSV = DATA / 'airline_stats.csv'\n",
    "KC_TAX_CSV = DATA / 'kc_tax.csv.gz'\n",
    "LC_LOANS_CSV = DATA / 'lc_loans.csv'\n",
    "AIRPORT_DELAYS_CSV = DATA / 'dfw_airline.csv'\n",
    "SP500_DATA_CSV = DATA / 'sp500_data.csv.gz'\n",
    "SP500_SECTORS_CSV = DATA / 'sp500_sectors.csv'\n",
    "STATE_CSV = DATA / 'state.csv'"
   ]
  },
  {
   "cell_type": "markdown",
   "metadata": {},
   "source": [
    "# Estimates of Location\n",
    "## Example: Location Estimates of Population and Murder Rates"
   ]
  },
  {
   "cell_type": "code",
   "execution_count": null,
   "metadata": {
    "execution": {
     "iopub.execute_input": "2021-02-23T16:10:41.537074Z",
     "iopub.status.busy": "2021-02-23T16:10:41.536575Z",
     "iopub.status.idle": "2021-02-23T16:10:41.548527Z",
     "shell.execute_reply": "2021-02-23T16:10:41.548116Z"
    }
   },
   "outputs": [],
   "source": [
    "# Table 1-2\n",
    "state = pd.read_csv(STATE_CSV)\n",
    "print(state.head(8))"
   ]
  },
  {
   "cell_type": "markdown",
   "metadata": {},
   "source": [
    "Compute the mean, trimmed mean, and median for Population. For `mean` and `median` we can use the _pandas_ methods of the data frame. The trimmed mean requires the `trim_mean` function in _scipy.stats_."
   ]
  },
  {
   "cell_type": "code",
   "execution_count": null,
   "metadata": {
    "execution": {
     "iopub.execute_input": "2021-02-23T16:10:41.552251Z",
     "iopub.status.busy": "2021-02-23T16:10:41.551748Z",
     "iopub.status.idle": "2021-02-23T16:10:41.559873Z",
     "shell.execute_reply": "2021-02-23T16:10:41.559390Z"
    }
   },
   "outputs": [],
   "source": [
    "state = pd.read_csv(STATE_CSV)\n",
    "print(state['Population'].mean())"
   ]
  },
  {
   "cell_type": "code",
   "execution_count": null,
   "metadata": {
    "execution": {
     "iopub.execute_input": "2021-02-23T16:10:41.564374Z",
     "iopub.status.busy": "2021-02-23T16:10:41.563609Z",
     "iopub.status.idle": "2021-02-23T16:10:41.566549Z",
     "shell.execute_reply": "2021-02-23T16:10:41.565992Z"
    }
   },
   "outputs": [],
   "source": [
    "print(trim_mean(state['Population'], 0.1))"
   ]
  },
  {
   "cell_type": "code",
   "execution_count": null,
   "metadata": {
    "execution": {
     "iopub.execute_input": "2021-02-23T16:10:41.569837Z",
     "iopub.status.busy": "2021-02-23T16:10:41.569401Z",
     "iopub.status.idle": "2021-02-23T16:10:41.572488Z",
     "shell.execute_reply": "2021-02-23T16:10:41.572028Z"
    }
   },
   "outputs": [],
   "source": [
    "print(state['Population'].median())"
   ]
  },
  {
   "cell_type": "markdown",
   "metadata": {},
   "source": [
    "Weighted mean is available with numpy. For weighted median, we can use the specialised package `wquantiles` (https://pypi.org/project/wquantiles/)."
   ]
  },
  {
   "cell_type": "code",
   "execution_count": null,
   "metadata": {
    "execution": {
     "iopub.execute_input": "2021-02-23T16:10:41.575657Z",
     "iopub.status.busy": "2021-02-23T16:10:41.575245Z",
     "iopub.status.idle": "2021-02-23T16:10:41.578181Z",
     "shell.execute_reply": "2021-02-23T16:10:41.577688Z"
    }
   },
   "outputs": [],
   "source": [
    "print(state['Murder.Rate'].mean())"
   ]
  },
  {
   "cell_type": "code",
   "execution_count": null,
   "metadata": {
    "execution": {
     "iopub.execute_input": "2021-02-23T16:10:41.581543Z",
     "iopub.status.busy": "2021-02-23T16:10:41.581063Z",
     "iopub.status.idle": "2021-02-23T16:10:41.583949Z",
     "shell.execute_reply": "2021-02-23T16:10:41.583442Z"
    }
   },
   "outputs": [],
   "source": [
    "print(np.average(state['Murder.Rate'], weights=state['Population']))"
   ]
  },
  {
   "cell_type": "code",
   "execution_count": null,
   "metadata": {
    "execution": {
     "iopub.execute_input": "2021-02-23T16:10:41.587053Z",
     "iopub.status.busy": "2021-02-23T16:10:41.586609Z",
     "iopub.status.idle": "2021-02-23T16:10:41.589695Z",
     "shell.execute_reply": "2021-02-23T16:10:41.589335Z"
    },
    "scrolled": true
   },
   "outputs": [],
   "source": [
    "print(wquantiles.median(state['Murder.Rate'], weights=state['Population']))"
   ]
  },
  {
   "cell_type": "markdown",
   "metadata": {},
   "source": [
    "# Estimates of Variability"
   ]
  },
  {
   "cell_type": "code",
   "execution_count": null,
   "metadata": {
    "execution": {
     "iopub.execute_input": "2021-02-23T16:10:41.594855Z",
     "iopub.status.busy": "2021-02-23T16:10:41.594331Z",
     "iopub.status.idle": "2021-02-23T16:10:41.597854Z",
     "shell.execute_reply": "2021-02-23T16:10:41.597356Z"
    }
   },
   "outputs": [],
   "source": [
    "# Table 1-2\n",
    "print(state.head(8))"
   ]
  },
  {
   "cell_type": "markdown",
   "metadata": {},
   "source": [
    "Standard deviation"
   ]
  },
  {
   "cell_type": "code",
   "execution_count": null,
   "metadata": {
    "execution": {
     "iopub.execute_input": "2021-02-23T16:10:41.600922Z",
     "iopub.status.busy": "2021-02-23T16:10:41.600491Z",
     "iopub.status.idle": "2021-02-23T16:10:41.603160Z",
     "shell.execute_reply": "2021-02-23T16:10:41.602776Z"
    }
   },
   "outputs": [],
   "source": [
    "print(state['Population'].std())"
   ]
  },
  {
   "cell_type": "markdown",
   "metadata": {},
   "source": [
    "Interquartile range is calculated as the difference of the 75% and 25% quantile."
   ]
  },
  {
   "cell_type": "code",
   "execution_count": null,
   "metadata": {
    "execution": {
     "iopub.execute_input": "2021-02-23T16:10:41.608314Z",
     "iopub.status.busy": "2021-02-23T16:10:41.607853Z",
     "iopub.status.idle": "2021-02-23T16:10:41.610621Z",
     "shell.execute_reply": "2021-02-23T16:10:41.610057Z"
    }
   },
   "outputs": [],
   "source": [
    "print(state['Population'].quantile(0.75) - state['Population'].quantile(0.25))"
   ]
  },
  {
   "cell_type": "markdown",
   "metadata": {},
   "source": [
    "Median absolute deviation from the median can be calculated with a method in _statsmodels_"
   ]
  },
  {
   "cell_type": "code",
   "execution_count": null,
   "metadata": {
    "execution": {
     "iopub.execute_input": "2021-02-23T16:10:41.617204Z",
     "iopub.status.busy": "2021-02-23T16:10:41.616688Z",
     "iopub.status.idle": "2021-02-23T16:10:41.620138Z",
     "shell.execute_reply": "2021-02-23T16:10:41.619371Z"
    }
   },
   "outputs": [],
   "source": [
    "print(robust.scale.mad(state['Population']))\n",
    "print(abs(state['Population'] - state['Population'].median()).median() / 0.6744897501960817)"
   ]
  },
  {
   "cell_type": "markdown",
   "metadata": {},
   "source": [
    "## Percentiles and Boxplots\n",
    "_Pandas_ has the `quantile` method for data frames."
   ]
  },
  {
   "cell_type": "code",
   "execution_count": null,
   "metadata": {
    "execution": {
     "iopub.execute_input": "2021-02-23T16:10:41.623994Z",
     "iopub.status.busy": "2021-02-23T16:10:41.623561Z",
     "iopub.status.idle": "2021-02-23T16:10:41.628267Z",
     "shell.execute_reply": "2021-02-23T16:10:41.627415Z"
    }
   },
   "outputs": [],
   "source": [
    "print(state['Murder.Rate'].quantile([0.05, 0.25, 0.5, 0.75, 0.95]))"
   ]
  },
  {
   "cell_type": "code",
   "execution_count": null,
   "metadata": {
    "execution": {
     "iopub.execute_input": "2021-02-23T16:10:41.634779Z",
     "iopub.status.busy": "2021-02-23T16:10:41.634337Z",
     "iopub.status.idle": "2021-02-23T16:10:41.638364Z",
     "shell.execute_reply": "2021-02-23T16:10:41.637857Z"
    }
   },
   "outputs": [],
   "source": [
    "# Table 1.4\n",
    "percentages = [0.05, 0.25, 0.5, 0.75, 0.95]\n",
    "df = pd.DataFrame(state['Murder.Rate'].quantile(percentages))\n",
    "df.index = [f'{p * 100}%' for p in percentages]\n",
    "print(df.transpose())"
   ]
  },
  {
   "cell_type": "markdown",
   "metadata": {},
   "source": [
    "_Pandas_ provides a number of basic exploratory plots; one of them are boxplots"
   ]
  },
  {
   "cell_type": "code",
   "execution_count": null,
   "metadata": {
    "execution": {
     "iopub.execute_input": "2021-02-23T16:10:41.641682Z",
     "iopub.status.busy": "2021-02-23T16:10:41.641207Z",
     "iopub.status.idle": "2021-02-23T16:10:41.767098Z",
     "shell.execute_reply": "2021-02-23T16:10:41.766686Z"
    }
   },
   "outputs": [],
   "source": [
    "ax = (state['Population']/1_000_000).plot.box(figsize=(3, 4))\n",
    "ax.set_ylabel('Population (millions)')\n",
    "\n",
    "plt.tight_layout()\n",
    "plt.show()"
   ]
  },
  {
   "cell_type": "markdown",
   "metadata": {},
   "source": [
    "## Frequency Table and Histograms\n",
    "The `cut` method for _pandas_ data splits the dataset into bins. There are a number of arguments for the method. The following code creates equal sized bins. The method `value_counts` returns a frequency table."
   ]
  },
  {
   "cell_type": "code",
   "execution_count": null,
   "metadata": {
    "execution": {
     "iopub.execute_input": "2021-02-23T16:10:41.778301Z",
     "iopub.status.busy": "2021-02-23T16:10:41.775272Z",
     "iopub.status.idle": "2021-02-23T16:10:41.783586Z",
     "shell.execute_reply": "2021-02-23T16:10:41.783992Z"
    }
   },
   "outputs": [],
   "source": [
    "binnedPopulation = pd.cut(state['Population'], 10)\n",
    "print(binnedPopulation.value_counts())"
   ]
  },
  {
   "cell_type": "code",
   "execution_count": null,
   "metadata": {
    "execution": {
     "iopub.execute_input": "2021-02-23T16:10:41.797320Z",
     "iopub.status.busy": "2021-02-23T16:10:41.792500Z",
     "iopub.status.idle": "2021-02-23T16:10:41.807526Z",
     "shell.execute_reply": "2021-02-23T16:10:41.806920Z"
    }
   },
   "outputs": [],
   "source": [
    "# Table 1.5\n",
    "binnedPopulation.name = 'binnedPopulation'\n",
    "df = pd.concat([state, binnedPopulation], axis=1)\n",
    "df = df.sort_values(by='Population')\n",
    "\n",
    "groups = []\n",
    "for group, subset in df.groupby(by='binnedPopulation'):\n",
    "    groups.append({\n",
    "        'BinRange': group,\n",
    "        'Count': len(subset),\n",
    "        'States': ','.join(subset.Abbreviation)\n",
    "    })\n",
    "print(pd.DataFrame(groups))"
   ]
  },
  {
   "cell_type": "markdown",
   "metadata": {},
   "source": [
    "_Pandas_ also supports histograms for exploratory data analysis."
   ]
  },
  {
   "cell_type": "code",
   "execution_count": null,
   "metadata": {
    "execution": {
     "iopub.execute_input": "2021-02-23T16:10:41.848563Z",
     "iopub.status.busy": "2021-02-23T16:10:41.833808Z",
     "iopub.status.idle": "2021-02-23T16:10:41.928974Z",
     "shell.execute_reply": "2021-02-23T16:10:41.929289Z"
    }
   },
   "outputs": [],
   "source": [
    "ax = (state['Population'] / 1_000_000).plot.hist(figsize=(4, 4))\n",
    "ax.set_xlabel('Population (millions)')\n",
    "\n",
    "plt.tight_layout()\n",
    "plt.show()"
   ]
  },
  {
   "cell_type": "markdown",
   "metadata": {},
   "source": [
    "## Density Estimates\n",
    "Density is an alternative to histograms that can provide more insight into the distribution of the data points. Use the argument `bw_method` to control the smoothness of the density curve."
   ]
  },
  {
   "cell_type": "code",
   "execution_count": null,
   "metadata": {
    "execution": {
     "iopub.execute_input": "2021-02-23T16:10:41.945298Z",
     "iopub.status.busy": "2021-02-23T16:10:41.944835Z",
     "iopub.status.idle": "2021-02-23T16:10:42.053592Z",
     "shell.execute_reply": "2021-02-23T16:10:42.053156Z"
    }
   },
   "outputs": [],
   "source": [
    "ax = state['Murder.Rate'].plot.hist(density=True, xlim=[0, 12], \n",
    "                                    bins=range(1,12), figsize=(4, 4))\n",
    "state['Murder.Rate'].plot.density(ax=ax)\n",
    "ax.set_xlabel('Murder Rate (per 100,000)')\n",
    "\n",
    "plt.tight_layout()\n",
    "plt.show()"
   ]
  },
  {
   "cell_type": "markdown",
   "metadata": {},
   "source": [
    "# Exploring Binary and Categorical Data"
   ]
  },
  {
   "cell_type": "code",
   "execution_count": null,
   "metadata": {
    "execution": {
     "iopub.execute_input": "2021-02-23T16:10:42.061159Z",
     "iopub.status.busy": "2021-02-23T16:10:42.059814Z",
     "iopub.status.idle": "2021-02-23T16:10:42.070552Z",
     "shell.execute_reply": "2021-02-23T16:10:42.069962Z"
    }
   },
   "outputs": [],
   "source": [
    "# Table 1-6\n",
    "dfw = pd.read_csv(AIRPORT_DELAYS_CSV)\n",
    "print(100 * dfw / dfw.values.sum())"
   ]
  },
  {
   "cell_type": "markdown",
   "metadata": {},
   "source": [
    "_Pandas_ also supports bar charts for displaying a single categorical variable."
   ]
  },
  {
   "cell_type": "code",
   "execution_count": null,
   "metadata": {
    "execution": {
     "iopub.execute_input": "2021-02-23T16:10:42.087526Z",
     "iopub.status.busy": "2021-02-23T16:10:42.086953Z",
     "iopub.status.idle": "2021-02-23T16:10:42.179227Z",
     "shell.execute_reply": "2021-02-23T16:10:42.179727Z"
    }
   },
   "outputs": [],
   "source": [
    "ax = dfw.transpose().plot.bar(figsize=(4, 4), legend=False)\n",
    "ax.set_xlabel('Cause of delay')\n",
    "ax.set_ylabel('Count')\n",
    "\n",
    "plt.tight_layout()\n",
    "plt.show()"
   ]
  },
  {
   "cell_type": "markdown",
   "metadata": {},
   "source": [
    "# Correlation\n",
    "First read the required datasets"
   ]
  },
  {
   "cell_type": "code",
   "execution_count": null,
   "metadata": {
    "execution": {
     "iopub.execute_input": "2021-02-23T16:10:42.183987Z",
     "iopub.status.busy": "2021-02-23T16:10:42.183232Z",
     "iopub.status.idle": "2021-02-23T16:10:43.127351Z",
     "shell.execute_reply": "2021-02-23T16:10:43.126640Z"
    }
   },
   "outputs": [],
   "source": [
    "sp500_sym = pd.read_csv(SP500_SECTORS_CSV)\n",
    "sp500_px = pd.read_csv(SP500_DATA_CSV, index_col=0)"
   ]
  },
  {
   "cell_type": "code",
   "execution_count": null,
   "metadata": {
    "execution": {
     "iopub.execute_input": "2021-02-23T16:10:43.135328Z",
     "iopub.status.busy": "2021-02-23T16:10:43.133230Z",
     "iopub.status.idle": "2021-02-23T16:10:43.143017Z",
     "shell.execute_reply": "2021-02-23T16:10:43.142409Z"
    }
   },
   "outputs": [],
   "source": [
    "# Table 1-7\n",
    "# Determine telecommunications symbols\n",
    "telecomSymbols = sp500_sym[sp500_sym['sector'] == 'telecommunications_services']['symbol']\n",
    "\n",
    "# Filter data for dates July 2012 through June 2015\n",
    "telecom = sp500_px.loc[sp500_px.index >= '2012-07-01', telecomSymbols]\n",
    "telecom.corr()\n",
    "print(telecom)"
   ]
  },
  {
   "cell_type": "markdown",
   "metadata": {},
   "source": [
    "Next we focus on funds traded on major exchanges (sector == 'etf'). "
   ]
  },
  {
   "cell_type": "code",
   "execution_count": null,
   "metadata": {
    "execution": {
     "iopub.execute_input": "2021-02-23T16:10:43.156798Z",
     "iopub.status.busy": "2021-02-23T16:10:43.155382Z",
     "iopub.status.idle": "2021-02-23T16:10:43.160232Z",
     "shell.execute_reply": "2021-02-23T16:10:43.160736Z"
    }
   },
   "outputs": [],
   "source": [
    "etfs = sp500_px.loc[sp500_px.index > '2012-07-01', \n",
    "                    sp500_sym[sp500_sym['sector'] == 'etf']['symbol']]\n",
    "print(etfs.head())"
   ]
  },
  {
   "cell_type": "markdown",
   "metadata": {},
   "source": [
    "Due to the large number of columns in this table, looking at the correlation matrix is cumbersome and it's more convenient to plot the correlation as a heatmap. The _seaborn_ package provides a convenient implementation for heatmaps."
   ]
  },
  {
   "cell_type": "code",
   "execution_count": null,
   "metadata": {
    "execution": {
     "iopub.execute_input": "2021-02-23T16:10:43.176265Z",
     "iopub.status.busy": "2021-02-23T16:10:43.175677Z",
     "iopub.status.idle": "2021-02-23T16:10:43.476624Z",
     "shell.execute_reply": "2021-02-23T16:10:43.476136Z"
    }
   },
   "outputs": [],
   "source": [
    "fig, ax = plt.subplots(figsize=(5, 4))\n",
    "ax = sns.heatmap(etfs.corr(), vmin=-1, vmax=1, \n",
    "                 cmap=sns.diverging_palette(20, 220, as_cmap=True),\n",
    "                 ax=ax)\n",
    "\n",
    "plt.tight_layout()\n",
    "plt.show()"
   ]
  },
  {
   "cell_type": "markdown",
   "metadata": {},
   "source": [
    "The above heatmap works when you have color. For the greyscale images, as used in the book, we need to visualize the direction as well. The following code shows the strength of the correlation using ellipses."
   ]
  },
  {
   "cell_type": "code",
   "execution_count": null,
   "metadata": {
    "execution": {
     "iopub.execute_input": "2021-02-23T16:10:43.485009Z",
     "iopub.status.busy": "2021-02-23T16:10:43.484463Z",
     "iopub.status.idle": "2021-02-23T16:10:43.692838Z",
     "shell.execute_reply": "2021-02-23T16:10:43.692449Z"
    }
   },
   "outputs": [],
   "source": [
    "from matplotlib.collections import EllipseCollection\n",
    "from matplotlib.colors import Normalize\n",
    "\n",
    "def plot_corr_ellipses(data, figsize=None, **kwargs):\n",
    "    ''' https://stackoverflow.com/a/34558488 '''\n",
    "    M = np.array(data)\n",
    "    if not M.ndim == 2:\n",
    "        raise ValueError('data must be a 2D array')\n",
    "    fig, ax = plt.subplots(1, 1, figsize=figsize, subplot_kw={'aspect':'equal'})\n",
    "    ax.set_xlim(-0.5, M.shape[1] - 0.5)\n",
    "    ax.set_ylim(-0.5, M.shape[0] - 0.5)\n",
    "    ax.invert_yaxis()\n",
    "\n",
    "    # xy locations of each ellipse center\n",
    "    xy = np.indices(M.shape)[::-1].reshape(2, -1).T\n",
    "\n",
    "    # set the relative sizes of the major/minor axes according to the strength of\n",
    "    # the positive/negative correlation\n",
    "    w = np.ones_like(M).ravel() + 0.01\n",
    "    h = 1 - np.abs(M).ravel() - 0.01\n",
    "    a = 45 * np.sign(M).ravel()\n",
    "\n",
    "    ec = EllipseCollection(widths=w, heights=h, angles=a, units='x', offsets=xy,\n",
    "                           norm=Normalize(vmin=-1, vmax=1),\n",
    "                           transOffset=ax.transData, array=M.ravel(), **kwargs)\n",
    "    ax.add_collection(ec)\n",
    "\n",
    "    # if data is a DataFrame, use the row/column names as tick labels\n",
    "    if isinstance(data, pd.DataFrame):\n",
    "        ax.set_xticks(np.arange(M.shape[1]))\n",
    "        ax.set_xticklabels(data.columns, rotation=90)\n",
    "        ax.set_yticks(np.arange(M.shape[0]))\n",
    "        ax.set_yticklabels(data.index)\n",
    "\n",
    "    return ec\n",
    "\n",
    "m = plot_corr_ellipses(etfs.corr(), figsize=(5, 4), cmap='bwr_r')\n",
    "cb = fig.colorbar(m)\n",
    "cb.set_label('Correlation coefficient')\n",
    "\n",
    "plt.tight_layout()\n",
    "plt.show()"
   ]
  },
  {
   "cell_type": "markdown",
   "metadata": {},
   "source": [
    "## Scatterplots\n",
    "Simple scatterplots are supported by _pandas_. Specifying the marker as `$\\u25EF$` uses an open circle for each point."
   ]
  },
  {
   "cell_type": "code",
   "execution_count": null,
   "metadata": {
    "execution": {
     "iopub.execute_input": "2021-02-23T16:10:43.713869Z",
     "iopub.status.busy": "2021-02-23T16:10:43.710875Z",
     "iopub.status.idle": "2021-02-23T16:10:43.916181Z",
     "shell.execute_reply": "2021-02-23T16:10:43.915815Z"
    },
    "scrolled": true
   },
   "outputs": [],
   "source": [
    "ax = telecom.plot.scatter(x='T', y='VZ', figsize=(4, 4), marker='$\\u25EF$')\n",
    "ax.set_xlabel('ATT (T)')\n",
    "ax.set_ylabel('Verizon (VZ)')\n",
    "ax.axhline(0, color='grey', lw=1)\n",
    "ax.axvline(0, color='grey', lw=1)\n",
    "\n",
    "plt.tight_layout()\n",
    "plt.show()"
   ]
  },
  {
   "cell_type": "code",
   "execution_count": null,
   "metadata": {
    "execution": {
     "iopub.execute_input": "2021-02-23T16:10:43.926336Z",
     "iopub.status.busy": "2021-02-23T16:10:43.925545Z",
     "iopub.status.idle": "2021-02-23T16:10:44.089590Z",
     "shell.execute_reply": "2021-02-23T16:10:44.089942Z"
    }
   },
   "outputs": [],
   "source": [
    "ax = telecom.plot.scatter(x='T', y='VZ', figsize=(4, 4), marker='$\\u25EF$', alpha=0.5)\n",
    "ax.set_xlabel('ATT (T)')\n",
    "ax.set_ylabel('Verizon (VZ)')\n",
    "ax.axhline(0, color='grey', lw=1)\n",
    "print(ax.axvline(0, color='grey', lw=1))"
   ]
  },
  {
   "cell_type": "markdown",
   "metadata": {},
   "source": [
    "# Exploring Two or More Variables\n",
    "Load the kc_tax dataset and filter based on a variety of criteria"
   ]
  },
  {
   "cell_type": "code",
   "execution_count": null,
   "metadata": {
    "execution": {
     "iopub.execute_input": "2021-02-23T16:10:44.093409Z",
     "iopub.status.busy": "2021-02-23T16:10:44.092631Z",
     "iopub.status.idle": "2021-02-23T16:10:44.246314Z",
     "shell.execute_reply": "2021-02-23T16:10:44.246721Z"
    }
   },
   "outputs": [],
   "source": [
    "kc_tax = pd.read_csv(KC_TAX_CSV)\n",
    "kc_tax0 = kc_tax.loc[(kc_tax.TaxAssessedValue < 750000) & \n",
    "                     (kc_tax.SqFtTotLiving > 100) &\n",
    "                     (kc_tax.SqFtTotLiving < 3500), :]\n",
    "print(kc_tax0.shape)"
   ]
  },
  {
   "cell_type": "markdown",
   "metadata": {},
   "source": [
    "## Hexagonal binning and Contours \n",
    "### Plotting numeric versus numeric data"
   ]
  },
  {
   "cell_type": "markdown",
   "metadata": {},
   "source": [
    "If the number of data points gets large, scatter plots will no longer be meaningful. Here methods that visualize densities are more useful. The `hexbin` method for _pandas_ data frames is one powerful approach."
   ]
  },
  {
   "cell_type": "code",
   "execution_count": null,
   "metadata": {
    "execution": {
     "iopub.execute_input": "2021-02-23T16:10:44.249537Z",
     "iopub.status.busy": "2021-02-23T16:10:44.248957Z",
     "iopub.status.idle": "2021-02-23T16:10:44.531271Z",
     "shell.execute_reply": "2021-02-23T16:10:44.531580Z"
    },
    "scrolled": true
   },
   "outputs": [],
   "source": [
    "ax = kc_tax0.plot.hexbin(x='SqFtTotLiving', y='TaxAssessedValue',\n",
    "                         gridsize=30, sharex=False, figsize=(5, 4))\n",
    "ax.set_xlabel('Finished Square Feet')\n",
    "ax.set_ylabel('Tax Assessed Value')\n",
    "\n",
    "plt.tight_layout()\n",
    "plt.show()"
   ]
  },
  {
   "cell_type": "markdown",
   "metadata": {},
   "source": [
    "The _seaborn_ kdeplot is a two-dimensional extension of the density plot. "
   ]
  },
  {
   "cell_type": "code",
   "execution_count": null,
   "metadata": {
    "execution": {
     "iopub.execute_input": "2021-02-23T16:10:44.544715Z",
     "iopub.status.busy": "2021-02-23T16:10:44.544214Z",
     "iopub.status.idle": "2021-02-23T16:15:20.899737Z",
     "shell.execute_reply": "2021-02-23T16:15:20.900168Z"
    },
    "scrolled": true
   },
   "outputs": [],
   "source": [
    "fig, ax = plt.subplots(figsize=(4, 4))\n",
    "sns.kdeplot(data=kc_tax0, x='SqFtTotLiving', y='TaxAssessedValue', ax=ax)\n",
    "ax.set_xlabel('Finished Square Feet')\n",
    "ax.set_ylabel('Tax Assessed Value')\n",
    "\n",
    "plt.tight_layout()\n",
    "plt.show()"
   ]
  },
  {
   "cell_type": "markdown",
   "metadata": {},
   "source": [
    "## Two Categorical Variables\n",
    "Load the `lc_loans` dataset"
   ]
  },
  {
   "cell_type": "code",
   "execution_count": null,
   "metadata": {
    "execution": {
     "iopub.execute_input": "2021-02-23T16:15:20.907504Z",
     "iopub.status.busy": "2021-02-23T16:15:20.906958Z",
     "iopub.status.idle": "2021-02-23T16:15:20.998107Z",
     "shell.execute_reply": "2021-02-23T16:15:20.997510Z"
    }
   },
   "outputs": [],
   "source": [
    "lc_loans = pd.read_csv(LC_LOANS_CSV)"
   ]
  },
  {
   "cell_type": "code",
   "execution_count": null,
   "metadata": {
    "execution": {
     "iopub.execute_input": "2021-02-23T16:15:21.006977Z",
     "iopub.status.busy": "2021-02-23T16:15:21.006414Z",
     "iopub.status.idle": "2021-02-23T16:15:21.162547Z",
     "shell.execute_reply": "2021-02-23T16:15:21.162106Z"
    }
   },
   "outputs": [],
   "source": [
    "# Table 1-8(1)\n",
    "crosstab = lc_loans.pivot_table(index='grade', columns='status', \n",
    "                                aggfunc=lambda x: len(x), margins=True)\n",
    "print(crosstab)"
   ]
  },
  {
   "cell_type": "code",
   "execution_count": null,
   "metadata": {
    "execution": {
     "iopub.execute_input": "2021-02-23T16:15:21.172198Z",
     "iopub.status.busy": "2021-02-23T16:15:21.171622Z",
     "iopub.status.idle": "2021-02-23T16:15:21.174565Z",
     "shell.execute_reply": "2021-02-23T16:15:21.174957Z"
    },
    "scrolled": true
   },
   "outputs": [],
   "source": [
    "# Table 1-8(2)\n",
    "df = crosstab.copy().loc['A':'G',:]\n",
    "df.loc[:,'Charged Off':'Late'] = df.loc[:,'Charged Off':'Late'].div(df['All'], axis=0)\n",
    "df['All'] = df['All'] / sum(df['All'])\n",
    "perc_crosstab = df\n",
    "print(perc_crosstab)"
   ]
  },
  {
   "cell_type": "markdown",
   "metadata": {},
   "source": [
    "## Categorical and Numeric Data\n",
    "_Pandas_ boxplots of a column can be grouped by a different column."
   ]
  },
  {
   "cell_type": "code",
   "execution_count": null,
   "metadata": {
    "execution": {
     "iopub.execute_input": "2021-02-23T16:15:21.182519Z",
     "iopub.status.busy": "2021-02-23T16:15:21.179606Z",
     "iopub.status.idle": "2021-02-23T16:15:21.367742Z",
     "shell.execute_reply": "2021-02-23T16:15:21.368293Z"
    }
   },
   "outputs": [],
   "source": [
    "airline_stats = pd.read_csv(AIRLINE_STATS_CSV)\n",
    "airline_stats.head()\n",
    "ax = airline_stats.boxplot(by='airline', column='pct_carrier_delay',\n",
    "                           figsize=(5, 5))\n",
    "ax.set_xlabel('')\n",
    "ax.set_ylabel('Daily % of Delayed Flights')\n",
    "plt.suptitle('')\n",
    "\n",
    "plt.tight_layout()\n",
    "plt.show()"
   ]
  },
  {
   "cell_type": "markdown",
   "metadata": {},
   "source": [
    "_Pandas_ also supports a variation of boxplots called _violinplot_. "
   ]
  },
  {
   "cell_type": "code",
   "execution_count": null,
   "metadata": {
    "execution": {
     "iopub.execute_input": "2021-02-23T16:15:21.381650Z",
     "iopub.status.busy": "2021-02-23T16:15:21.381203Z",
     "iopub.status.idle": "2021-02-23T16:15:21.545507Z",
     "shell.execute_reply": "2021-02-23T16:15:21.545807Z"
    },
    "scrolled": false
   },
   "outputs": [],
   "source": [
    "fig, ax = plt.subplots(figsize=(5, 5))\n",
    "sns.violinplot(data=airline_stats, x='airline', y='pct_carrier_delay',\n",
    "               ax=ax, inner='quartile', color='white')\n",
    "ax.set_xlabel('')\n",
    "ax.set_ylabel('Daily % of Delayed Flights')\n",
    "\n",
    "plt.tight_layout()\n",
    "plt.show()"
   ]
  },
  {
   "cell_type": "markdown",
   "metadata": {},
   "source": [
    "## Visualizing Multiple Variables"
   ]
  },
  {
   "cell_type": "code",
   "execution_count": null,
   "metadata": {
    "execution": {
     "iopub.execute_input": "2021-02-23T16:15:21.550494Z",
     "iopub.status.busy": "2021-02-23T16:15:21.550057Z",
     "iopub.status.idle": "2021-02-23T16:15:21.986622Z",
     "shell.execute_reply": "2021-02-23T16:15:21.986305Z"
    },
    "scrolled": false
   },
   "outputs": [],
   "source": [
    "zip_codes = [98188, 98105, 98108, 98126]\n",
    "kc_tax_zip = kc_tax0.loc[kc_tax0.ZipCode.isin(zip_codes),:]\n",
    "kc_tax_zip\n",
    "\n",
    "def hexbin(x, y, color, **kwargs):\n",
    "    cmap = sns.light_palette(color, as_cmap=True)\n",
    "    plt.hexbin(x, y, gridsize=25, cmap=cmap, **kwargs)\n",
    "\n",
    "g = sns.FacetGrid(kc_tax_zip, col='ZipCode', col_wrap=2)\n",
    "g.map(hexbin, 'SqFtTotLiving', 'TaxAssessedValue', \n",
    "      extent=[0, 3500, 0, 700000])\n",
    "g.set_axis_labels('Finished Square Feet', 'Tax Assessed Value')\n",
    "g.set_titles('Zip code {col_name:.0f}')\n",
    "\n",
    "plt.tight_layout()\n",
    "plt.show()"
   ]
  }
 ],
 "metadata": {
  "kernelspec": {
   "display_name": "Python 3",
   "language": "python",
   "name": "python3"
  },
  "language_info": {
   "codemirror_mode": {
    "name": "ipython",
    "version": 3
   },
   "file_extension": ".py",
   "mimetype": "text/x-python",
   "name": "python",
   "nbconvert_exporter": "python",
   "pygments_lexer": "ipython3",
   "version": "3.8.5"
  }
 },
 "nbformat": 4,
 "nbformat_minor": 2
}
