{
 "metadata": {
  "language_info": {
   "codemirror_mode": {
    "name": "ipython",
    "version": 3
   },
   "file_extension": ".py",
   "mimetype": "text/x-python",
   "name": "python",
   "nbconvert_exporter": "python",
   "pygments_lexer": "ipython3",
   "version": "3.8.8"
  },
  "orig_nbformat": 2,
  "kernelspec": {
   "name": "python388jvsc74a57bd057b66c22aabd134d6cf71460525f066bed3b4ba0eefd0844134956d138f041cb",
   "display_name": "Python 3.8.8 64-bit ('AIML': venv)"
  }
 },
 "nbformat": 4,
 "nbformat_minor": 2,
 "cells": [
  {
   "source": [
    "# Measure of Central Tendancy"
   ],
   "cell_type": "markdown",
   "metadata": {}
  },
  {
   "source": [
    "# Mean"
   ],
   "cell_type": "markdown",
   "metadata": {}
  },
  {
   "cell_type": "code",
   "execution_count": null,
   "metadata": {},
   "outputs": [],
   "source": [
    "# Importing packages\n",
    "import statistics\n",
    "import numpy as np\n",
    "\n",
    "# Sample Data\n",
    "data = [1,2,4,5,6,76,8,45]\n",
    "# Using simple mean formula\n",
    "mean = sum(data)/len(data)\n",
    "\n",
    "print(mean)\n",
    "# output of numpy package\n",
    "print(np.mean(data))\n",
    "# output of statistics package\n",
    "print(statistics.mean(data))"
   ]
  },
  {
   "source": [
    "# Median"
   ],
   "cell_type": "markdown",
   "metadata": {}
  },
  {
   "cell_type": "code",
   "execution_count": null,
   "metadata": {},
   "outputs": [],
   "source": [
    "import statistics\n",
    "import numpy as np\n",
    "\n",
    "data = [1,2,4,5,6,76,8,45]\n",
    "\n",
    "# Using Formula without Python Packages\n",
    "\"\"\"\n",
    "If number of elements = odd - - - -> n/2\n",
    "If number of elements = even - - → (n+1)/2\n",
    "We can't use the (n+1)/2 exactly in coding. Because finding the position using float values gets error. So, I am slightly changing the formula for Even.\n",
    "m1 = (n/2)th position\n",
    "m2 = ((n/2) - 1) th position\n",
    "\"\"\"\n",
    "sorted_data_median = sorted(data)\n",
    "print(\"Sorted Data:\", sorted_data_median)\n",
    "m1 = int(len(sorted_data_median)/ 2)\n",
    "m2 = int((m1 - 1))\n",
    "print(f\"Position of the data: {m1} and {m2}\")\n",
    "print(f\"Values in the Position: {sorted_data_median[m1]} and {sorted_data_median[m2]}\")\n",
    "median = (sorted_data_median[m1] + sorted_data_median[m2])/2\n",
    "print(\"Median:\",  median)\n",
    "\n",
    "\n",
    "# Using numpy package\n",
    "print(np.median(data))\n",
    "\n",
    "# Using statistics package\n",
    "print(statistics.median(data))"
   ]
  },
  {
   "source": [
    "# Mode"
   ],
   "cell_type": "markdown",
   "metadata": {}
  },
  {
   "cell_type": "code",
   "execution_count": null,
   "metadata": {},
   "outputs": [],
   "source": [
    "# Importing packages\n",
    "import statistics\n",
    "from scipy import stats\n",
    "\n",
    "# Sample data\n",
    "data = [1,2,3,4,4,5,6,7,7,7,7,6,6,4,3,2,1]\n",
    "\n",
    "# Using Scipy Package\n",
    "output = stats.mode(data)\n",
    "print(f\"The Number {output[0]} occured {output[1]} times\")\n",
    "\n",
    "# Using Statistics package\n",
    "print(statistics.mode(data))"
   ]
  },
  {
   "source": [
    "# Measure of Variability/Dispersion"
   ],
   "cell_type": "markdown",
   "metadata": {}
  },
  {
   "source": [
    "# Range"
   ],
   "cell_type": "markdown",
   "metadata": {}
  },
  {
   "cell_type": "code",
   "execution_count": null,
   "metadata": {},
   "outputs": [],
   "source": [
    "# Sample data\n",
    "data = {4, 6, 9, 3, 7}\n",
    "\n",
    "range = max(data) - min(data)\n",
    "print(\"Maximum Value : \", max(data))\n",
    "print(\"Minimum Value : \", min(data))\n",
    "print(\"Range : \", range)"
   ]
  },
  {
   "source": [
    "# Interquartile Range"
   ],
   "cell_type": "markdown",
   "metadata": {}
  },
  {
   "cell_type": "code",
   "execution_count": null,
   "metadata": {},
   "outputs": [],
   "source": [
    "\n",
    "# Import the numpy library as np\n",
    "import numpy as np\n",
    "from scipy import stats\n",
    "  \n",
    "data = [32, 36, 46, 47, 56, 69, 75, 79, 79, 88, 89, 91, 92, 93, 96, 97, \n",
    "        101, 105, 112, 116]\n",
    "\n",
    "# Using Numpy Median\n",
    "# First quartile (Q1)\n",
    "Q1 = np.median(data[:10])\n",
    "# Third quartile (Q3)\n",
    "Q3 = np.median(data[10:])\n",
    "# Interquartile range (IQR)\n",
    "IQR = Q3 - Q1\n",
    "print(\"Numpy Median : \",IQR)\n",
    "\n",
    "\n",
    "# Using Numpy Percentile\n",
    "# First quartile (Q1)\n",
    "Q1 = np.percentile(data, 25, interpolation = 'midpoint')\n",
    "# Third quartile (Q3)\n",
    "Q3 = np.percentile(data, 75, interpolation = 'midpoint')\n",
    "# Interquaritle range (IQR)\n",
    "IQR = Q3 - Q1\n",
    "print(\"Numpy Percentile : \",IQR)\n",
    "\n",
    "# Using Scipy\n",
    "# Interquartile range (IQR)\n",
    "IQR = stats.iqr(data, interpolation = 'midpoint')\n",
    "print(\"Scipy : \",IQR)"
   ]
  },
  {
   "source": [
    "# Variance"
   ],
   "cell_type": "markdown",
   "metadata": {}
  },
  {
   "cell_type": "code",
   "execution_count": null,
   "metadata": {},
   "outputs": [],
   "source": [
    "import statistics\n",
    "\n",
    "data = {4, 6, 9, 3, 7}\n",
    "\n",
    "# Population Variance\n",
    "def variance(data):\n",
    "     # Number of observations\n",
    "     n = len(data)\n",
    "     # Mean of the data\n",
    "     mean = sum(data) / n\n",
    "     # Square deviations\n",
    "     deviations = [(x - mean) ** 2 for x in data]\n",
    "    # Variance\n",
    "     variance = sum(deviations) / (n)\n",
    "     return variance\n",
    "print(variance(data))\n",
    "\n",
    "\n",
    "# Using Statistics package\n",
    "statistics.pvariance(data)\n",
    "\n"
   ]
  },
  {
   "cell_type": "code",
   "execution_count": null,
   "metadata": {},
   "outputs": [],
   "source": [
    "import statistics\n",
    "\n",
    "data = {4, 6, 9, 3, 7}\n",
    "\n",
    "# Sample Variance\n",
    "def variance(data):\n",
    "     # Number of observations\n",
    "     n = len(data)\n",
    "     # Mean of the data\n",
    "     mean = sum(data) / n\n",
    "     # Square deviations\n",
    "     deviations = [(x - mean) ** 2 for x in data]\n",
    "    # Variance\n",
    "     variance = sum(deviations) / (n - 1)\n",
    "     return variance\n",
    "print(variance(data))\n",
    "\n",
    "\n",
    "# Using Statistics package\n",
    "statistics.variance(data)"
   ]
  },
  {
   "source": [
    "# Standard Deviation"
   ],
   "cell_type": "markdown",
   "metadata": {}
  },
  {
   "cell_type": "code",
   "execution_count": null,
   "metadata": {},
   "outputs": [],
   "source": [
    "import statistics\n",
    "import math\n",
    "\n",
    "data = {4, 6, 9, 3, 7}\n",
    "\n",
    "# Population Standard Deviation\n",
    "def popstddev(data):\n",
    "     # Number of observations\n",
    "     n = len(data)\n",
    "     # Mean of the data\n",
    "     mean = sum(data) / n\n",
    "     # Square deviations\n",
    "     deviations = [(x - mean) ** 2 for x in data]\n",
    "    # stddev\n",
    "     stddev = math.sqrt(sum(deviations) / (n))\n",
    "     return stddev\n",
    "\n",
    "print(popstddev(data))\n",
    "\n",
    "\n",
    "# Using Statistics package\n",
    "statistics.pstdev(data)\n",
    "\n"
   ]
  },
  {
   "cell_type": "code",
   "execution_count": null,
   "metadata": {},
   "outputs": [],
   "source": [
    "import statistics\n",
    "import math\n",
    "\n",
    "data = {4, 6, 9, 3, 7}\n",
    "\n",
    "# Sample Standard Deviation\n",
    "def samplestddev(data):\n",
    "     # Number of observations\n",
    "     n = len(data)\n",
    "     # Mean of the data\n",
    "     mean = sum(data) / n\n",
    "     # Square deviations\n",
    "     deviations = [(x - mean) ** 2 for x in data]\n",
    "    # stddev\n",
    "     stddev = math.sqrt(sum(deviations) / (n - 1))\n",
    "     return stddev\n",
    "print(samplestddev(data))\n",
    "\n",
    "\n",
    "# Using Statistics package\n",
    "statistics.stdev(data)"
   ]
  },
  {
   "source": [
    "# Measure of Assymmetry"
   ],
   "cell_type": "markdown",
   "metadata": {}
  },
  {
   "source": [
    "# Skewness"
   ],
   "cell_type": "markdown",
   "metadata": {}
  },
  {
   "cell_type": "code",
   "execution_count": null,
   "metadata": {},
   "outputs": [],
   "source": [
    "# importing pandas as pd\n",
    "import pandas as pd\n",
    "import numpy as np\n",
    "import matplotlib.pyplot as plt\n",
    "import seaborn as sns\n",
    "\n",
    "# Creating the dataframe \n",
    "df = pd.read_csv(\"nba.csv\")\n",
    "\n",
    "# Two features using groupby\n",
    "salary = df.groupby(\"Name\")[\"Salary\"].sum()\n",
    "print(salary.skew())\n",
    "sns.kdeplot(salary)\n",
    "\n",
    "# Single feature skew pandas library\n",
    "age = df[\"Age\"].value_counts()\n",
    "age.skew()\n",
    "print(\"Single\", age)\n",
    "sns.kdeplot(age)\n",
    "\n",
    "# skip the na values\n",
    "# find skewness in each row\n",
    "df.skew(axis = 0, skipna = True)"
   ]
  },
  {
   "cell_type": "code",
   "execution_count": null,
   "metadata": {},
   "outputs": [],
   "source": []
  }
 ]
}